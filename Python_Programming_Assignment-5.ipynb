{
 "cells": [
  {
   "cell_type": "markdown",
   "id": "82d4d727-3ca8-4a2d-bcc3-d9db767536f4",
   "metadata": {},
   "source": [
    "# Python Assignment-5 (Solved)"
   ]
  },
  {
   "cell_type": "markdown",
   "id": "d8683185-6702-444e-8f3a-8b8fd906cbf4",
   "metadata": {},
   "source": [
    "## Q1. What does an empty dictionary's code look like?\n"
   ]
  },
  {
   "cell_type": "code",
   "execution_count": 1,
   "id": "d60e9852-7e57-4ddd-9fea-5a1080033fd0",
   "metadata": {},
   "outputs": [],
   "source": [
    "dict = {}\n"
   ]
  },
  {
   "cell_type": "code",
   "execution_count": 2,
   "id": "8c7a5e43-4a91-4f29-a30d-2ee9fac60e1d",
   "metadata": {},
   "outputs": [
    {
     "data": {
      "text/plain": [
       "dict"
      ]
     },
     "execution_count": 2,
     "metadata": {},
     "output_type": "execute_result"
    }
   ],
   "source": [
    "type(dict)"
   ]
  },
  {
   "cell_type": "markdown",
   "id": "e9f4df87-05b0-4aa3-9071-7b628a7e5e91",
   "metadata": {},
   "source": [
    "## 2. What is the value of a dictionary value with the key 'foo' and the value 42?\n"
   ]
  },
  {
   "cell_type": "code",
   "execution_count": 7,
   "id": "3c28581d-c0df-4b3d-aa1f-037f2a3a4448",
   "metadata": {},
   "outputs": [
    {
     "data": {
      "text/plain": [
       "dict"
      ]
     },
     "execution_count": 7,
     "metadata": {},
     "output_type": "execute_result"
    }
   ],
   "source": [
    "dict1={'foo':42}\n",
    "type(dict1)"
   ]
  },
  {
   "cell_type": "code",
   "execution_count": 6,
   "id": "0cfd767b-68d5-43d5-8ba3-be892c1ddf49",
   "metadata": {},
   "outputs": [
    {
     "name": "stdout",
     "output_type": "stream",
     "text": [
      "dict_values([42])\n"
     ]
    }
   ],
   "source": [
    "print(dict1.values())"
   ]
  },
  {
   "cell_type": "markdown",
   "id": "78fa5604-569e-43c5-84b9-39f2e50e135c",
   "metadata": {},
   "source": [
    "## 3. What is the most significant distinction between a dictionary and a list?\n"
   ]
  },
  {
   "cell_type": "markdown",
   "id": "567940b3-6c78-46b2-b7a4-2593b5a11219",
   "metadata": {},
   "source": [
    "The most significant difference between a ```list``` and a ```dictionary``` is that,  the ```list``` is an ordered collection of data , whereas the ```dictionary``` stores the data in the form of ```key-value``` pairs using the hashtable structure."
   ]
  },
  {
   "cell_type": "markdown",
   "id": "ec8f5a28-066e-497a-8330-99341ad24320",
   "metadata": {},
   "source": [
    "## 4. What happens if you try to access spam['foo'] if spam is {'bar': 100}?\n"
   ]
  },
  {
   "cell_type": "markdown",
   "id": "16d65a47-53b7-4696-86b2-bcf389b1f597",
   "metadata": {},
   "source": [
    "If we try to access the key which is not present in the dictionary we will get the attribute error "
   ]
  },
  {
   "cell_type": "code",
   "execution_count": 8,
   "id": "f65faf6d-3364-48ff-99e8-19c49d7fce78",
   "metadata": {},
   "outputs": [],
   "source": [
    "spam={'bar':100}"
   ]
  },
  {
   "cell_type": "code",
   "execution_count": 11,
   "id": "0a054ee7-ac16-4926-8545-a3e925a9aa9a",
   "metadata": {},
   "outputs": [
    {
     "ename": "KeyError",
     "evalue": "'foo'",
     "output_type": "error",
     "traceback": [
      "\u001b[0;31m---------------------------------------------------------------------------\u001b[0m",
      "\u001b[0;31mKeyError\u001b[0m                                  Traceback (most recent call last)",
      "Cell \u001b[0;32mIn [11], line 1\u001b[0m\n\u001b[0;32m----> 1\u001b[0m \u001b[43mspam\u001b[49m\u001b[43m[\u001b[49m\u001b[38;5;124;43m'\u001b[39;49m\u001b[38;5;124;43mfoo\u001b[39;49m\u001b[38;5;124;43m'\u001b[39;49m\u001b[43m]\u001b[49m\n",
      "\u001b[0;31mKeyError\u001b[0m: 'foo'"
     ]
    }
   ],
   "source": [
    "spam['foo']"
   ]
  },
  {
   "cell_type": "markdown",
   "id": "bb0be43f-774b-4cbe-ab99-54c156bf4f80",
   "metadata": {},
   "source": [
    "## 5. If a dictionary is stored in spam, what is the difference between the expressions 'cat' in spam and 'cat' in spam.keys()?\n"
   ]
  },
  {
   "cell_type": "code",
   "execution_count": 19,
   "id": "da1e15a4-baf7-4e90-807d-6a96f989e333",
   "metadata": {},
   "outputs": [],
   "source": [
    "spam={'cat':100}"
   ]
  },
  {
   "cell_type": "code",
   "execution_count": 16,
   "id": "56d4ac0a-3fe6-4ab3-92cf-f357b9cd2337",
   "metadata": {},
   "outputs": [
    {
     "data": {
      "text/plain": [
       "dict"
      ]
     },
     "execution_count": 16,
     "metadata": {},
     "output_type": "execute_result"
    }
   ],
   "source": [
    "type(spam)"
   ]
  },
  {
   "cell_type": "code",
   "execution_count": 17,
   "id": "b3ddcee2-586c-4440-9537-5ef5e0a99e92",
   "metadata": {},
   "outputs": [
    {
     "data": {
      "text/plain": [
       "True"
      ]
     },
     "execution_count": 17,
     "metadata": {},
     "output_type": "execute_result"
    }
   ],
   "source": [
    "'cat' in spam"
   ]
  },
  {
   "cell_type": "code",
   "execution_count": 18,
   "id": "1ba56ae8-229c-4d60-b269-2635d2f6c8c7",
   "metadata": {},
   "outputs": [
    {
     "data": {
      "text/plain": [
       "True"
      ]
     },
     "execution_count": 18,
     "metadata": {},
     "output_type": "execute_result"
    }
   ],
   "source": [
    "'cat' in spam.keys()"
   ]
  },
  {
   "cell_type": "markdown",
   "id": "9bdaeb41-1b2b-4580-b75d-80ee9a510bed",
   "metadata": {},
   "source": [
    "There is no differnce, both check if 'cat' is key of the dictionary and if its a key, returns True."
   ]
  },
  {
   "cell_type": "markdown",
   "id": "66926816-25d0-4735-95ae-1ebc230d326c",
   "metadata": {},
   "source": [
    "## 6. If a dictionary is stored in spam, what is the difference between the expressions 'cat' in spam and 'cat' in spam.values()?"
   ]
  },
  {
   "cell_type": "markdown",
   "id": "921447b2-f59b-42ed-a3bc-76c94ffa8809",
   "metadata": {},
   "source": [
    "```'cat'```in spam checks whether there is a 'cat' key in the dictionary\n"
   ]
  },
  {
   "cell_type": "code",
   "execution_count": 20,
   "id": "86dc6151-f146-4b21-8481-d89c0be1d153",
   "metadata": {},
   "outputs": [
    {
     "data": {
      "text/plain": [
       "True"
      ]
     },
     "execution_count": 20,
     "metadata": {},
     "output_type": "execute_result"
    }
   ],
   "source": [
    "'cat' in spam"
   ]
  },
  {
   "cell_type": "markdown",
   "id": "b6a4c157-8d19-415d-b987-d5aed116b975",
   "metadata": {},
   "source": [
    "```'cat'``` in spam.values() checks whether there is a value ```'cat'``` for one of the keys in spam."
   ]
  },
  {
   "cell_type": "code",
   "execution_count": 21,
   "id": "4a660e25-cfdf-40cd-a1bf-7552067c8efb",
   "metadata": {},
   "outputs": [
    {
     "data": {
      "text/plain": [
       "False"
      ]
     },
     "execution_count": 21,
     "metadata": {},
     "output_type": "execute_result"
    }
   ],
   "source": [
    "'cat' in spam.values()"
   ]
  },
  {
   "cell_type": "markdown",
   "id": "e3ba40dd-79e1-4622-a12d-3e36eb89a580",
   "metadata": {},
   "source": [
    "## 7. What is a shortcut for the following code?\n",
    "if 'color' not in spam:\n",
    "\n",
    "spam['color'] = 'black'\n"
   ]
  },
  {
   "cell_type": "code",
   "execution_count": 22,
   "id": "2233fedb-73d8-4708-964e-58c2d476d514",
   "metadata": {},
   "outputs": [
    {
     "data": {
      "text/plain": [
       "{'cat': 100}"
      ]
     },
     "execution_count": 22,
     "metadata": {},
     "output_type": "execute_result"
    }
   ],
   "source": [
    "spam"
   ]
  },
  {
   "cell_type": "code",
   "execution_count": 23,
   "id": "f78ca267-0f8d-433a-be32-6b80ea2494dd",
   "metadata": {},
   "outputs": [
    {
     "data": {
      "text/plain": [
       "'black'"
      ]
     },
     "execution_count": 23,
     "metadata": {},
     "output_type": "execute_result"
    }
   ],
   "source": [
    "spam.setdefault('color','black')"
   ]
  },
  {
   "cell_type": "code",
   "execution_count": 24,
   "id": "893710a4-772d-461d-ad5e-cb1c3452c3cd",
   "metadata": {},
   "outputs": [
    {
     "data": {
      "text/plain": [
       "{'cat': 100, 'color': 'black'}"
      ]
     },
     "execution_count": 24,
     "metadata": {},
     "output_type": "execute_result"
    }
   ],
   "source": [
    "spam"
   ]
  },
  {
   "cell_type": "markdown",
   "id": "a9e9a840-429e-4446-95bd-dee3bf3243c0",
   "metadata": {},
   "source": [
    "## 8. How do you \"pretty print\" dictionary values using which module and function?"
   ]
  },
  {
   "cell_type": "markdown",
   "id": "7e50dd36-3b88-46d0-8868-991eb393a002",
   "metadata": {},
   "source": [
    "The module used is the ```pprint``` module within which we have the pprint function of the same name"
   ]
  },
  {
   "cell_type": "code",
   "execution_count": 25,
   "id": "ddbed541-0c78-4cdf-bf05-ef2690afd9c1",
   "metadata": {},
   "outputs": [],
   "source": [
    "import pprint\n",
    "dct = { 'serial_no': 65,\n",
    "    'name': 'harry',\n",
    "    'class_attended': [{ 'English', 'Mathematics', 'Science'}]}\n"
   ]
  },
  {
   "cell_type": "code",
   "execution_count": 26,
   "id": "848cbf0e-a60d-4eea-b2a9-3326884867f9",
   "metadata": {},
   "outputs": [
    {
     "name": "stdout",
     "output_type": "stream",
     "text": [
      "{'class_attended': [{'Science', 'English', 'Mathematics'}],\n",
      " 'name': 'harry',\n",
      " 'serial_no': 65}\n"
     ]
    }
   ],
   "source": [
    "pprint.pprint(dct)"
   ]
  },
  {
   "cell_type": "code",
   "execution_count": 27,
   "id": "4b79cee7-9faa-462f-9d33-105604edbe76",
   "metadata": {},
   "outputs": [
    {
     "name": "stdout",
     "output_type": "stream",
     "text": [
      "{'serial_no': 65, 'name': 'harry', 'class_attended': [{'Science', 'English', 'Mathematics'}]}\n"
     ]
    }
   ],
   "source": [
    "print(dct)"
   ]
  },
  {
   "cell_type": "code",
   "execution_count": null,
   "id": "0ca8b18f-14ac-459e-b6a5-39fffb622145",
   "metadata": {},
   "outputs": [],
   "source": []
  }
 ],
 "metadata": {
  "kernelspec": {
   "display_name": "Python 3 (ipykernel)",
   "language": "python",
   "name": "python3"
  },
  "language_info": {
   "codemirror_mode": {
    "name": "ipython",
    "version": 3
   },
   "file_extension": ".py",
   "mimetype": "text/x-python",
   "name": "python",
   "nbconvert_exporter": "python",
   "pygments_lexer": "ipython3",
   "version": "3.10.6"
  }
 },
 "nbformat": 4,
 "nbformat_minor": 5
}
