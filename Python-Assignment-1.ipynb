{
 "cells": [
  {
   "cell_type": "markdown",
   "id": "0bbf37d7-7201-482c-8c25-b1fd8a85f682",
   "metadata": {},
   "source": [
    "Python Assignment-1 (Sloved) "
   ]
  },
  {
   "cell_type": "markdown",
   "id": "be482ee0-7004-4fbc-a25a-9c8e6ca49aaa",
   "metadata": {},
   "source": [
    "1. In the below elements which of them are values or an expression? eg:- values can be\n",
    "integer or string and expressions will be mathematical operators.\n",
    "\n",
    "- $ * $\n",
    "- 'hello'\n",
    "- -87.8\n",
    "- $ -$\n",
    "- $ /$\n",
    "- $ +$\n",
    "- 6 "
   ]
  },
  {
   "cell_type": "markdown",
   "id": "ee5a243e-0d30-4e3a-b81a-0e0d1aae0ec7",
   "metadata": {},
   "source": [
    "In the above question below are the values and Expression respectively - \n",
    "\n",
    "- Values - (-87.8, 6)\n",
    "- expressions- ($*, -, /, +$, 'hello')"
   ]
  },
  {
   "cell_type": "markdown",
   "id": "b2ff869f-7cf7-4b6c-a937-c8591b0657c2",
   "metadata": {},
   "source": [
    "2. What is the difference between string and variable?"
   ]
  },
  {
   "cell_type": "markdown",
   "id": "966732dd-8edd-458e-ab54-929449f613ac",
   "metadata": {},
   "source": [
    "- String - A string is a value representation of a **text** in python.\n",
    "- Variable - It is the **space/storage/allocated memory**  where we **assign/store** the value for computation purposes."
   ]
  },
  {
   "cell_type": "markdown",
   "id": "83fdfa78-ae7d-4627-9eb3-c00081061d06",
   "metadata": {},
   "source": [
    "3. Describe three different data types."
   ]
  },
  {
   "cell_type": "markdown",
   "id": "e5456755-80c6-458b-93df-75d66a84f259",
   "metadata": {},
   "source": [
    "A data type is the classification of that specifies the type of value a variable has stored and what type of  operations can be applied on it without getting any error.\n",
    "The different data types in python are - \n",
    "\n",
    "- Numeric - **INT, FLoat, Complex**\n",
    "- Boolean - **TRUE, FALSE** \n",
    "- Sequence - **Strings, List, Tuple**\n"
   ]
  },
  {
   "cell_type": "markdown",
   "id": "2c00091a-3935-42d1-89a4-24c935e2b25a",
   "metadata": {},
   "source": [
    "4. What is an expression made up of? What do all expressions do?"
   ]
  },
  {
   "cell_type": "markdown",
   "id": "a37bff00-b078-4c27-8c2a-d985f4b40257",
   "metadata": {},
   "source": [
    "An expression is a combined statements of some operators and operands, for example **x= 20** & **x= x+10\"\". Here we have three operands 'x', '20' & '10' and two operators i.e \"=\" & \"+\" which whole as an expression gives us the addition operations.\n",
    "\n",
    "In other words the expression produces/ generates a values for the given operation acting upon the operands."
   ]
  },
  {
   "cell_type": "markdown",
   "id": "c5f09e0b-1f2e-484d-85a6-96cf77138079",
   "metadata": {},
   "source": [
    "5. This assignment statements, like spam = 10. What is the difference between an\n",
    "expression and a statement?"
   ]
  },
  {
   "cell_type": "markdown",
   "id": "95cd6a85-1012-4534-9156-d1ff12384ce4",
   "metadata": {},
   "source": [
    "The major difference between an expression and a statement is that the expressions are evaluated against a result however a statement is a simple assignment of a value to a variable."
   ]
  },
  {
   "cell_type": "markdown",
   "id": "0070b33e-e20b-41b4-b6eb-f76d5a04e2f2",
   "metadata": {},
   "source": [
    "6. After running the following code, what does the variable bacon contain?\n",
    "bacon = 22\n",
    "bacon + 1"
   ]
  },
  {
   "cell_type": "code",
   "execution_count": 1,
   "id": "176cd23c-d9d5-4ab9-9f02-b7f821831d88",
   "metadata": {},
   "outputs": [
    {
     "data": {
      "text/plain": [
       "23"
      ]
     },
     "execution_count": 1,
     "metadata": {},
     "output_type": "execute_result"
    }
   ],
   "source": [
    "bacon=22\n",
    "bacon+1\n"
   ]
  },
  {
   "cell_type": "markdown",
   "id": "3fcb9853-8c7b-4942-8e1a-b81107f9454d",
   "metadata": {},
   "source": [
    "SO the final value of the bacon (variable ) has got incremented by 1"
   ]
  },
  {
   "cell_type": "markdown",
   "id": "4c40294a-70da-4526-9282-468ddb7d0ee6",
   "metadata": {},
   "source": [
    "7. What should the values of the following two terms be?\n",
    "'spam' + 'spamspam'\n",
    "'spam'* 3"
   ]
  },
  {
   "cell_type": "code",
   "execution_count": 4,
   "id": "e700b232-14c2-4070-9ff2-15d45039b0ea",
   "metadata": {},
   "outputs": [
    {
     "data": {
      "text/plain": [
       "'spamspamspam'"
      ]
     },
     "execution_count": 4,
     "metadata": {},
     "output_type": "execute_result"
    }
   ],
   "source": [
    "'spam'+'spamspam'\n"
   ]
  },
  {
   "cell_type": "code",
   "execution_count": 5,
   "id": "6d5478c3-ed23-472e-9199-1624cb03e986",
   "metadata": {},
   "outputs": [
    {
     "data": {
      "text/plain": [
       "'spamspamspam'"
      ]
     },
     "execution_count": 5,
     "metadata": {},
     "output_type": "execute_result"
    }
   ],
   "source": [
    "'spam'*3"
   ]
  },
  {
   "cell_type": "markdown",
   "id": "19fdcf06-a6d1-446c-ad15-aaea0eab4b18",
   "metadata": {},
   "source": [
    "In the above two expression the result remains the same which is 'spamspamspam', because in the first exrpession we are concatenating/ adding  the two string and in the second statement we are multiplying the same string three times."
   ]
  },
  {
   "cell_type": "markdown",
   "id": "cb59669e-06fd-4808-8263-9a5bd3d51bf8",
   "metadata": {},
   "source": [
    "8. Why is eggs a valid variable name while 100 is invalid?\n"
   ]
  },
  {
   "cell_type": "markdown",
   "id": "c5c506e8-ac13-4fcf-bfce-9e001c745b7a",
   "metadata": {},
   "source": [
    "In the python it is mentioned that- \n",
    "A variable name must start with a letter or the underscore character\n",
    "A variable name cannot start with a number\n",
    "A variable name can only contain alpha-numeric characters and underscores (A-z, 0-9, and _ )\n",
    "Variable names are case-sensitive (age, Age and AGE are three different variables)"
   ]
  },
  {
   "cell_type": "code",
   "execution_count": null,
   "id": "e71e2b23-3fd2-4645-9e97-62c09bfec366",
   "metadata": {},
   "outputs": [],
   "source": []
  }
 ],
 "metadata": {
  "kernelspec": {
   "display_name": "Python 3 (ipykernel)",
   "language": "python",
   "name": "python3"
  },
  "language_info": {
   "codemirror_mode": {
    "name": "ipython",
    "version": 3
   },
   "file_extension": ".py",
   "mimetype": "text/x-python",
   "name": "python",
   "nbconvert_exporter": "python",
   "pygments_lexer": "ipython3",
   "version": "3.10.6"
  }
 },
 "nbformat": 4,
 "nbformat_minor": 5
}
