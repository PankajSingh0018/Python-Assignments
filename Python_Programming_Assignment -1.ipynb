{
 "cells": [
  {
   "cell_type": "markdown",
   "id": "3f9940d5-e70b-45d4-adcc-d6647eb3649d",
   "metadata": {},
   "source": [
    "# Programming Assignment- 1 (Solved)"
   ]
  },
  {
   "cell_type": "markdown",
   "id": "e28b6876-c23f-4cae-9ca7-ce7599b6d0ea",
   "metadata": {},
   "source": [
    "## Q1- 1.\tWrite a Python program to print \"Hello Python\"? "
   ]
  },
  {
   "cell_type": "code",
   "execution_count": 1,
   "id": "416ed1e6-e7a8-4b47-a389-26ac4c218958",
   "metadata": {},
   "outputs": [
    {
     "name": "stdout",
     "output_type": "stream",
     "text": [
      "Hello Python\n"
     ]
    }
   ],
   "source": [
    "print(\"Hello Python\")"
   ]
  },
  {
   "cell_type": "markdown",
   "id": "550d325c-4d27-4051-9123-741286251f7e",
   "metadata": {},
   "source": [
    "## Q2- Write a Python program to do arithmetical operations addition and division.?"
   ]
  },
  {
   "cell_type": "code",
   "execution_count": 2,
   "id": "7f80e928-676b-4607-93c3-512f56910e1f",
   "metadata": {},
   "outputs": [],
   "source": [
    "# lets initialise two variables to oprate arithmetical Operations \n",
    "\n",
    "a= 5\n",
    "b=7\n"
   ]
  },
  {
   "cell_type": "code",
   "execution_count": 7,
   "id": "4c5b89dd-2139-41b0-8fff-bede5f39f41e",
   "metadata": {},
   "outputs": [
    {
     "name": "stdout",
     "output_type": "stream",
     "text": [
      "The addition of the two numbers are :12\n"
     ]
    }
   ],
   "source": [
    "# Addtion\n",
    "c= a+b\n",
    "print( f\"The addition of the two numbers are :{c}\")\n"
   ]
  },
  {
   "cell_type": "code",
   "execution_count": 9,
   "id": "aa5d0269-1a57-4b49-8c39-c2874a30de0e",
   "metadata": {},
   "outputs": [
    {
     "name": "stdout",
     "output_type": "stream",
     "text": [
      "The addition of 5 and 7 is :12\n"
     ]
    }
   ],
   "source": [
    "print (f\"The addition of {a} and {b} is :{c}\")"
   ]
  },
  {
   "cell_type": "code",
   "execution_count": 10,
   "id": "7bd43a6c-25f9-4137-8ced-892432a767ff",
   "metadata": {},
   "outputs": [],
   "source": [
    "# division \n",
    "d= a/b"
   ]
  },
  {
   "cell_type": "code",
   "execution_count": 11,
   "id": "2ba108a9-9772-4128-951c-8ee556206b42",
   "metadata": {},
   "outputs": [
    {
     "name": "stdout",
     "output_type": "stream",
     "text": [
      " The division of 5 and 7 is : 0.7142857142857143\n"
     ]
    }
   ],
   "source": [
    "print(f\" The division of {a} and {b} is : {d}\")"
   ]
  },
  {
   "cell_type": "markdown",
   "id": "55f68a0e-7a14-490f-b0dc-5bb79cabea6f",
   "metadata": {},
   "source": [
    "## Q 3.\tWrite a Python program to find the area of a triangle?"
   ]
  },
  {
   "cell_type": "code",
   "execution_count": 17,
   "id": "28b7e0b9-71cc-419c-954c-421cfaeb6f33",
   "metadata": {},
   "outputs": [
    {
     "name": "stdin",
     "output_type": "stream",
     "text": [
      "Enter the base of the triangle 20\n"
     ]
    }
   ],
   "source": [
    "# Let's take the input of Base and Height of the triangle from the user \n",
    "a= int(input(\"Enter the base of the triangle\"))"
   ]
  },
  {
   "cell_type": "code",
   "execution_count": 19,
   "id": "9959adbb-e605-4efd-b514-9640abb9b032",
   "metadata": {},
   "outputs": [
    {
     "name": "stdin",
     "output_type": "stream",
     "text": [
      "Enter the height of the triangle 30\n"
     ]
    }
   ],
   "source": [
    "b= int(input(\"Enter the height of the triangle\"))"
   ]
  },
  {
   "cell_type": "code",
   "execution_count": 21,
   "id": "1d8a85c5-1c84-42a4-bd3c-9f22a24fe902",
   "metadata": {},
   "outputs": [],
   "source": [
    "def area (a,b):\n",
    "    area_triangle= 0.5*(a*b)\n",
    "    print (f\" The area of the triangle with base {a} and height {b} is {area_triangle}\")"
   ]
  },
  {
   "cell_type": "code",
   "execution_count": 22,
   "id": "a7c1b816-a3b2-4976-a8ef-370ade69b824",
   "metadata": {},
   "outputs": [
    {
     "name": "stdout",
     "output_type": "stream",
     "text": [
      " The area of the triangle with base 20 and height 30 is 300.0\n"
     ]
    }
   ],
   "source": [
    "area(a,b)"
   ]
  },
  {
   "cell_type": "markdown",
   "id": "b38a73f4-4d6f-4150-a958-2341558200bc",
   "metadata": {},
   "source": [
    "## Q 4.\tWrite a Python program to swap two variables?"
   ]
  },
  {
   "cell_type": "code",
   "execution_count": 31,
   "id": "c7bb2a34-cead-4263-87d8-4465939bfe5e",
   "metadata": {},
   "outputs": [
    {
     "name": "stdin",
     "output_type": "stream",
     "text": [
      "Enter the first number 20\n"
     ]
    },
    {
     "name": "stdout",
     "output_type": "stream",
     "text": [
      "The first number is 20\n"
     ]
    }
   ],
   "source": [
    "# Let's take the input from the user and storing the variables\n",
    "\n",
    "x = int(input(\"Enter the first number\"))\n",
    "print (f\"The first number is {x}\")"
   ]
  },
  {
   "cell_type": "code",
   "execution_count": 32,
   "id": "eef8e556-3a60-42c4-a05d-4bfade9c7273",
   "metadata": {},
   "outputs": [
    {
     "name": "stdin",
     "output_type": "stream",
     "text": [
      "Enter the second number 366\n"
     ]
    },
    {
     "name": "stdout",
     "output_type": "stream",
     "text": [
      "The second number is 366\n"
     ]
    }
   ],
   "source": [
    "y=int (input(\"Enter the second number\"))\n",
    "print(f\"The second number is {y}\")"
   ]
  },
  {
   "cell_type": "code",
   "execution_count": 33,
   "id": "dd3e3537-6668-40e5-8555-bf11c867411f",
   "metadata": {},
   "outputs": [],
   "source": [
    "# let's now swap the value of the variables \n",
    "x,y= y,x"
   ]
  },
  {
   "cell_type": "code",
   "execution_count": 34,
   "id": "2bb5213e-42a8-4362-afae-b7efa1735bca",
   "metadata": {},
   "outputs": [
    {
     "name": "stdout",
     "output_type": "stream",
     "text": [
      " The swapped value of x is 366 and y is 20\n"
     ]
    }
   ],
   "source": [
    "# Let's now print the swapped values \n",
    "print (f\" The swapped value of x is {x} and y is {y}\")"
   ]
  },
  {
   "cell_type": "markdown",
   "id": "5330e867-3383-478e-a820-b580ef727dd9",
   "metadata": {},
   "source": [
    "## Q5.\tWrite a Python program to generate a random number?"
   ]
  },
  {
   "cell_type": "code",
   "execution_count": 61,
   "id": "1921a05d-d0c4-4fad-8bef-47be9171b7d7",
   "metadata": {},
   "outputs": [],
   "source": [
    "# let's first import the random function module \n",
    "import random "
   ]
  },
  {
   "cell_type": "code",
   "execution_count": 62,
   "id": "32ebd9a6-38e2-4147-a633-5548cd10687c",
   "metadata": {},
   "outputs": [
    {
     "name": "stdout",
     "output_type": "stream",
     "text": [
      "0.8549327227277421\n"
     ]
    }
   ],
   "source": [
    "num = random.random()\n",
    "print(num)"
   ]
  },
  {
   "cell_type": "code",
   "execution_count": null,
   "id": "c1725a34-8ea9-417e-ae13-586969adc578",
   "metadata": {},
   "outputs": [],
   "source": []
  }
 ],
 "metadata": {
  "kernelspec": {
   "display_name": "Python 3 (ipykernel)",
   "language": "python",
   "name": "python3"
  },
  "language_info": {
   "codemirror_mode": {
    "name": "ipython",
    "version": 3
   },
   "file_extension": ".py",
   "mimetype": "text/x-python",
   "name": "python",
   "nbconvert_exporter": "python",
   "pygments_lexer": "ipython3",
   "version": "3.10.6"
  }
 },
 "nbformat": 4,
 "nbformat_minor": 5
}
