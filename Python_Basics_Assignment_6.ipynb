{
  "nbformat": 4,
  "nbformat_minor": 0,
  "metadata": {
    "colab": {
      "provenance": [],
      "authorship_tag": "ABX9TyO387M2DcNn+z132+aWaOn2",
      "include_colab_link": true
    },
    "kernelspec": {
      "name": "python3",
      "display_name": "Python 3"
    },
    "language_info": {
      "name": "python"
    }
  },
  "cells": [
    {
      "cell_type": "markdown",
      "metadata": {
        "id": "view-in-github",
        "colab_type": "text"
      },
      "source": [
        "<a href=\"https://colab.research.google.com/github/PankajSingh0018/Python-Assignments/blob/main/Python_Basics_Assignment_6.ipynb\" target=\"_parent\"><img src=\"https://colab.research.google.com/assets/colab-badge.svg\" alt=\"Open In Colab\"/></a>"
      ]
    },
    {
      "cell_type": "markdown",
      "source": [
        "# Python Basics Assignment 6\n",
        "\n",
        "---\n",
        "\n"
      ],
      "metadata": {
        "id": "5DUXkEo7QOGg"
      }
    },
    {
      "cell_type": "markdown",
      "source": [
        "## Q1-What are escape characters, and how do you use them?"
      ],
      "metadata": {
        "id": "a81B2LvbQbJu"
      }
    },
    {
      "cell_type": "markdown",
      "source": [
        "Escape characters are special characters in programming that are used to indicate a special meaning and are not interpreted as literal characters. They start with a backslash \\ and are used to represent non-printable or difficult to type characters in string literals, such as newline, tab, or backslash itself.\n",
        "\n",
        "Here are some common escape characters in Python:\n",
        "\n",
        "**\\n** - Newline\n",
        "\n",
        "**\\t** - Tab\n",
        "\n",
        "**\\\\** - Backslash\n",
        "\n",
        "**'** - Single quote\n",
        "\n",
        "**\"** - Double quote\n",
        "\n",
        "**r** - Carriage return\n",
        "\n",
        "**b** - Backspace"
      ],
      "metadata": {
        "id": "XM1rZgskQmTP"
      }
    },
    {
      "cell_type": "code",
      "source": [
        "print(\"Hello\\tworld!\")\n"
      ],
      "metadata": {
        "colab": {
          "base_uri": "https://localhost:8080/"
        },
        "id": "YTp_bBuRQp4V",
        "outputId": "562bbc07-14b8-43bf-ccbf-7b6a70935c37"
      },
      "execution_count": null,
      "outputs": [
        {
          "output_type": "stream",
          "name": "stdout",
          "text": [
            "Hello\tworld!\n"
          ]
        }
      ]
    },
    {
      "cell_type": "code",
      "source": [
        "print(\"Hello\\\\world!\")\n"
      ],
      "metadata": {
        "colab": {
          "base_uri": "https://localhost:8080/"
        },
        "id": "AhmyypSwRHd1",
        "outputId": "62d3ce50-af80-41e3-89ea-5c716f4aafbd"
      },
      "execution_count": null,
      "outputs": [
        {
          "output_type": "stream",
          "name": "stdout",
          "text": [
            "Hello\\world!\n"
          ]
        }
      ]
    },
    {
      "cell_type": "code",
      "source": [
        "print(\"Hello\\nworld!\") \n"
      ],
      "metadata": {
        "colab": {
          "base_uri": "https://localhost:8080/"
        },
        "id": "tfrDI0o7RNR9",
        "outputId": "fc65e102-8f77-4876-ab83-77ccb73d070b"
      },
      "execution_count": null,
      "outputs": [
        {
          "output_type": "stream",
          "name": "stdout",
          "text": [
            "Hello\n",
            "world!\n"
          ]
        }
      ]
    },
    {
      "cell_type": "markdown",
      "source": [
        "## Q2. What do the escape characters n and t stand for?"
      ],
      "metadata": {
        "id": "2Z_3roCiRX8w"
      }
    },
    {
      "cell_type": "markdown",
      "source": [
        "The escape characters **\\n** and **\\t** stand for \"newline\" and \"tab,\" respectively.\n",
        "\n",
        "The **\\n** escape character represents a newline and is used to insert a line break in a string.\n",
        "\n",
        "The **\\t** escape character represents a tab and is used to insert a tab character in a string."
      ],
      "metadata": {
        "id": "8raxBPueRg4Q"
      }
    },
    {
      "cell_type": "code",
      "source": [
        "print(\"Hello\\tworld!\") "
      ],
      "metadata": {
        "colab": {
          "base_uri": "https://localhost:8080/"
        },
        "id": "T2udLri0RZXg",
        "outputId": "1fa2e082-a300-4920-c492-369631134184"
      },
      "execution_count": null,
      "outputs": [
        {
          "output_type": "stream",
          "name": "stdout",
          "text": [
            "Hello\tworld!\n"
          ]
        }
      ]
    },
    {
      "cell_type": "code",
      "source": [
        "print(\"Hello\\nworld!\")"
      ],
      "metadata": {
        "colab": {
          "base_uri": "https://localhost:8080/"
        },
        "id": "oNQhS5jjR1Ws",
        "outputId": "58f67b4d-dbd6-4717-c13f-6cffe92a275d"
      },
      "execution_count": null,
      "outputs": [
        {
          "output_type": "stream",
          "name": "stdout",
          "text": [
            "Hello\n",
            "world!\n"
          ]
        }
      ]
    },
    {
      "cell_type": "markdown",
      "source": [
        "## Q 3. What is the way to include backslash characters in a string?"
      ],
      "metadata": {
        "id": "V0SpPcpeR7LP"
      }
    },
    {
      "cell_type": "markdown",
      "source": [
        "To include a literal backslash **\\** in a string, you need to escape it using another backslash **\\**.\n",
        "\n",
        "In other words, you need to use two backslashes **\\\\** to represent a single literal backslash."
      ],
      "metadata": {
        "id": "UaLaLlZJSLWG"
      }
    },
    {
      "cell_type": "code",
      "source": [
        "print(\"Hello\\\\world\")"
      ],
      "metadata": {
        "colab": {
          "base_uri": "https://localhost:8080/"
        },
        "id": "-eV2sXhKR3Nt",
        "outputId": "0a68312a-1b79-42ca-baf4-5ed63bd2d6cb"
      },
      "execution_count": null,
      "outputs": [
        {
          "output_type": "stream",
          "name": "stdout",
          "text": [
            "Hello\\world\n"
          ]
        }
      ]
    },
    {
      "cell_type": "markdown",
      "source": [
        "## Q4. The string \"Howl's Moving Castle\" is a correct value. Why isn't the single quote character in the word Howl's not escaped a problem?"
      ],
      "metadata": {
        "id": "J3qITrhnSdtP"
      }
    },
    {
      "cell_type": "markdown",
      "source": [
        "In Python, you can use either single quotes ' or double quotes \" to define a string, but not both within the same string without escaping.\n",
        "\n",
        "The string \"Howl's Moving Castle\" is a correct value because it is enclosed in double quotes, and the single quote character in the word \"Howl's\" is not escaped. This is because the single quote character is not the same as the enclosing quotes, so there's no conflict.\n",
        "\n",
        "If you wanted to use single quotes to define the string, you would have to escape the single quotes within the string:"
      ],
      "metadata": {
        "id": "ixK18iDDStGL"
      }
    },
    {
      "cell_type": "code",
      "source": [
        "s = 'Howl\\'s Moving Castle'"
      ],
      "metadata": {
        "id": "Srpe_CfDSbgU"
      },
      "execution_count": null,
      "outputs": []
    },
    {
      "cell_type": "code",
      "source": [
        "s"
      ],
      "metadata": {
        "colab": {
          "base_uri": "https://localhost:8080/",
          "height": 35
        },
        "id": "79Il90ZUSzBN",
        "outputId": "98ba8c45-73a7-4dbf-b950-734d045ccfa7"
      },
      "execution_count": null,
      "outputs": [
        {
          "output_type": "execute_result",
          "data": {
            "text/plain": [
              "\"Howl's Moving Castle\""
            ],
            "application/vnd.google.colaboratory.intrinsic+json": {
              "type": "string"
            }
          },
          "metadata": {},
          "execution_count": 9
        }
      ]
    },
    {
      "cell_type": "markdown",
      "source": [
        "In this case, the escape character \\ is used to escape the single quote character within the string, allowing it to be defined using single quotes."
      ],
      "metadata": {
        "id": "5ceP5W9xS5Oj"
      }
    },
    {
      "cell_type": "markdown",
      "source": [
        "## Q5. How do you write a string of newlines if you don't want to use the n character?"
      ],
      "metadata": {
        "id": "hVOK0I3hTE1V"
      }
    },
    {
      "cell_type": "markdown",
      "source": [
        "If you don't want to use the \\n escape character to represent newlines in a string, you can use multiple string literals and concatenate them to achieve the desired result."
      ],
      "metadata": {
        "id": "ReF3QFl5TLOv"
      }
    },
    {
      "cell_type": "code",
      "source": [
        "s = \"Line 1\\n\" + \"Line 2\\n\" + \"Line 3\"\n",
        "print(s)"
      ],
      "metadata": {
        "colab": {
          "base_uri": "https://localhost:8080/"
        },
        "id": "G6nHJdP7S0fk",
        "outputId": "9ebab670-d4a6-4caa-e33e-8a8f66c3d0ff"
      },
      "execution_count": null,
      "outputs": [
        {
          "output_type": "stream",
          "name": "stdout",
          "text": [
            "Line 1\n",
            "Line 2\n",
            "Line 3\n"
          ]
        }
      ]
    },
    {
      "cell_type": "markdown",
      "source": [
        "## Q6. What are the values of the given expressions?\n",
        "\n",
        "'Hello, world!'[1]\n",
        "\n",
        "'Hello, world!'[0:5]\n",
        "\n",
        "'Hello, world!'[:5]\n",
        "\n",
        "'Hello, world!'[3:]\n"
      ],
      "metadata": {
        "id": "Tg7EnEaWTOq-"
      }
    },
    {
      "cell_type": "code",
      "source": [
        "'Hello, world!'[1]"
      ],
      "metadata": {
        "colab": {
          "base_uri": "https://localhost:8080/",
          "height": 35
        },
        "id": "x1PZU5xpTNtV",
        "outputId": "0e7274c5-2439-458b-af6b-9cb539ae2006"
      },
      "execution_count": null,
      "outputs": [
        {
          "output_type": "execute_result",
          "data": {
            "text/plain": [
              "'e'"
            ],
            "application/vnd.google.colaboratory.intrinsic+json": {
              "type": "string"
            }
          },
          "metadata": {},
          "execution_count": 11
        }
      ]
    },
    {
      "cell_type": "code",
      "source": [
        "'Hello, world!'[0:5]"
      ],
      "metadata": {
        "colab": {
          "base_uri": "https://localhost:8080/",
          "height": 35
        },
        "id": "IksO6fnhTghE",
        "outputId": "12519806-20ba-4466-df43-1556a2610c4c"
      },
      "execution_count": null,
      "outputs": [
        {
          "output_type": "execute_result",
          "data": {
            "text/plain": [
              "'Hello'"
            ],
            "application/vnd.google.colaboratory.intrinsic+json": {
              "type": "string"
            }
          },
          "metadata": {},
          "execution_count": 12
        }
      ]
    },
    {
      "cell_type": "code",
      "source": [
        "'Hello, world!'[:5]"
      ],
      "metadata": {
        "colab": {
          "base_uri": "https://localhost:8080/",
          "height": 35
        },
        "id": "o930yqYGTiTG",
        "outputId": "ccaf3e0c-93b1-48e5-c406-d1315cdb2522"
      },
      "execution_count": null,
      "outputs": [
        {
          "output_type": "execute_result",
          "data": {
            "text/plain": [
              "'Hello'"
            ],
            "application/vnd.google.colaboratory.intrinsic+json": {
              "type": "string"
            }
          },
          "metadata": {},
          "execution_count": 13
        }
      ]
    },
    {
      "cell_type": "code",
      "source": [
        "'Hello, world!'[3:]"
      ],
      "metadata": {
        "colab": {
          "base_uri": "https://localhost:8080/",
          "height": 35
        },
        "id": "lxtxfguQTjr7",
        "outputId": "a8a0007d-aef1-4b58-9c52-f312120ec01a"
      },
      "execution_count": null,
      "outputs": [
        {
          "output_type": "execute_result",
          "data": {
            "text/plain": [
              "'lo, world!'"
            ],
            "application/vnd.google.colaboratory.intrinsic+json": {
              "type": "string"
            }
          },
          "metadata": {},
          "execution_count": 14
        }
      ]
    },
    {
      "cell_type": "markdown",
      "source": [
        "## Q7. What are the values of the following expressions?\n",
        "\n",
        "'Hello'.upper()\n",
        "\n",
        "'Hello'.upper().isupper()\n",
        "\n",
        "'Hello'.upper().lower()\n"
      ],
      "metadata": {
        "id": "mzNVjkT-TqQw"
      }
    },
    {
      "cell_type": "code",
      "source": [
        "'Hello'.upper()"
      ],
      "metadata": {
        "colab": {
          "base_uri": "https://localhost:8080/",
          "height": 35
        },
        "id": "am1OM2WQTlEm",
        "outputId": "7e5d4f4b-b774-4867-a293-901973f50152"
      },
      "execution_count": null,
      "outputs": [
        {
          "output_type": "execute_result",
          "data": {
            "text/plain": [
              "'HELLO'"
            ],
            "application/vnd.google.colaboratory.intrinsic+json": {
              "type": "string"
            }
          },
          "metadata": {},
          "execution_count": 16
        }
      ]
    },
    {
      "cell_type": "code",
      "source": [
        "'Hello'.upper().isupper()"
      ],
      "metadata": {
        "colab": {
          "base_uri": "https://localhost:8080/"
        },
        "id": "T5NDZBSFTx28",
        "outputId": "84856cea-d63e-45a7-bc0c-a1271be31309"
      },
      "execution_count": null,
      "outputs": [
        {
          "output_type": "execute_result",
          "data": {
            "text/plain": [
              "True"
            ]
          },
          "metadata": {},
          "execution_count": 17
        }
      ]
    },
    {
      "cell_type": "code",
      "source": [
        "'Hello'.upper().lower()"
      ],
      "metadata": {
        "colab": {
          "base_uri": "https://localhost:8080/",
          "height": 35
        },
        "id": "Ys1v7pRwT3Yu",
        "outputId": "dd3bf12e-1ac0-48c8-94ea-d5582e77fbfe"
      },
      "execution_count": null,
      "outputs": [
        {
          "output_type": "execute_result",
          "data": {
            "text/plain": [
              "'hello'"
            ],
            "application/vnd.google.colaboratory.intrinsic+json": {
              "type": "string"
            }
          },
          "metadata": {},
          "execution_count": 18
        }
      ]
    },
    {
      "cell_type": "markdown",
      "source": [
        "## Q8. What are the values of the following expressions?\n",
        "\n",
        "'Remember, remember, the fifth of July.'.split()"
      ],
      "metadata": {
        "id": "Qo9cZRGFUEXu"
      }
    },
    {
      "cell_type": "code",
      "source": [
        "'Remember, remember, the fifth of July.'.split()"
      ],
      "metadata": {
        "colab": {
          "base_uri": "https://localhost:8080/"
        },
        "id": "WJPbo-KdT6OV",
        "outputId": "648a34b6-318e-4e5f-f9d2-9cce4d5c8f7e"
      },
      "execution_count": null,
      "outputs": [
        {
          "output_type": "execute_result",
          "data": {
            "text/plain": [
              "['Remember,', 'remember,', 'the', 'fifth', 'of', 'July.']"
            ]
          },
          "metadata": {},
          "execution_count": 21
        }
      ]
    },
    {
      "cell_type": "code",
      "source": [
        "'-'.join('There can only one.'.split())"
      ],
      "metadata": {
        "colab": {
          "base_uri": "https://localhost:8080/",
          "height": 35
        },
        "id": "jmAIwrY1UKk8",
        "outputId": "d7cd8fbb-69dc-4ca3-f5de-da8764abeb23"
      },
      "execution_count": null,
      "outputs": [
        {
          "output_type": "execute_result",
          "data": {
            "text/plain": [
              "'There-can-only-one.'"
            ],
            "application/vnd.google.colaboratory.intrinsic+json": {
              "type": "string"
            }
          },
          "metadata": {},
          "execution_count": 22
        }
      ]
    },
    {
      "cell_type": "markdown",
      "source": [
        "## Q9. What are the methods for right-justifying, left-justifying, and centering a string?"
      ],
      "metadata": {
        "id": "0WGSClXJUYKt"
      }
    },
    {
      "cell_type": "markdown",
      "source": [
        "For right-justifying, left-justifying and centering a string in Python:\n",
        "\n",
        "**Right-justifying:** Use str.rjust(width) method.\n",
        "\n",
        "**Left-justifying:** Use str.ljust(width) method.\n",
        "\n",
        "**Centering:** Use str.center(width) method."
      ],
      "metadata": {
        "id": "NXrg1yLoUr3V"
      }
    },
    {
      "cell_type": "code",
      "source": [
        "text = \"Hello World\"\n",
        "\n",
        "# right justify\n",
        "right_justified = text.rjust(20)\n",
        "print(right_justified)\n",
        "\n",
        "# left justify\n",
        "left_justified = text.ljust(20)\n",
        "print(left_justified)\n",
        "\n",
        "# center\n",
        "centered = text.center(20)\n",
        "print(centered)\n",
        "\n",
        "\n",
        "\n"
      ],
      "metadata": {
        "colab": {
          "base_uri": "https://localhost:8080/"
        },
        "id": "kEolDpnhUSfa",
        "outputId": "62057241-735f-4408-9022-196d3861a1f7"
      },
      "execution_count": null,
      "outputs": [
        {
          "output_type": "stream",
          "name": "stdout",
          "text": [
            "         Hello World\n",
            "Hello World         \n",
            "    Hello World     \n"
          ]
        }
      ]
    },
    {
      "cell_type": "markdown",
      "source": [
        "## Q10. What is the best way to remove whitespace characters from the start or end?"
      ],
      "metadata": {
        "id": "n0GM4vMTVLmV"
      }
    },
    {
      "cell_type": "markdown",
      "source": [
        "The best way to remove whitespace characters from the start or end of a string in Python is to use the str.strip() method.\n",
        "\n"
      ],
      "metadata": {
        "id": "ifKG1U3DVLcM"
      }
    },
    {
      "cell_type": "code",
      "source": [
        "text = \"   Hello World   \"\n",
        "stripped_text = text.strip()\n",
        "print(stripped_text)"
      ],
      "metadata": {
        "colab": {
          "base_uri": "https://localhost:8080/"
        },
        "id": "Hiqfnh_CU_9i",
        "outputId": "fcecc4b1-a46b-477e-ecf0-088b679d8cd6"
      },
      "execution_count": null,
      "outputs": [
        {
          "output_type": "stream",
          "name": "stdout",
          "text": [
            "Hello World\n"
          ]
        }
      ]
    },
    {
      "cell_type": "code",
      "source": [],
      "metadata": {
        "id": "VPnT5bTdVSCT"
      },
      "execution_count": null,
      "outputs": []
    }
  ]
}