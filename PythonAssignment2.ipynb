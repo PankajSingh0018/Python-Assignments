{
 "cells": [
  {
   "cell_type": "markdown",
   "id": "0e1846c0-f275-418d-ae9f-857d7eacded9",
   "metadata": {},
   "source": [
    "# Python -Assignent 2 (Solved)"
   ]
  },
  {
   "cell_type": "markdown",
   "id": "f3f3cd46-1def-4442-b60e-e07354d5adb9",
   "metadata": {
    "jp-MarkdownHeadingCollapsed": true,
    "tags": []
   },
   "source": [
    "## Q1.What are the two values of the Boolean data type? How do you write them?"
   ]
  },
  {
   "cell_type": "markdown",
   "id": "9866574f-304e-4811-95b1-9fd208143f47",
   "metadata": {},
   "source": [
    "The Two Values for the Boolean Data Type are ```True``` and ```False```\n",
    "The correct way of Writing the boolean data type is using the First letter in capital and the left in running small as ```True``` & ```False```"
   ]
  },
  {
   "cell_type": "code",
   "execution_count": 1,
   "id": "c268ea9f-b102-409e-a1a7-9227f4a02057",
   "metadata": {},
   "outputs": [
    {
     "name": "stdout",
     "output_type": "stream",
     "text": [
      "False\n"
     ]
    }
   ],
   "source": [
    "# for example\n",
    "a= True\n",
    "b=False\n",
    "x= 20\n",
    "y=40\n",
    "if x==y:\n",
    "    print (a)\n",
    "else:\n",
    "    print(b)"
   ]
  },
  {
   "cell_type": "markdown",
   "id": "ac9232fc-d55b-4256-8e34-bce58a08237d",
   "metadata": {},
   "source": [
    "## Q2.What are the three different types of Boolean operators?"
   ]
  },
  {
   "cell_type": "markdown",
   "id": "3fa3ce05-0eef-4395-94c4-3867a61e9423",
   "metadata": {},
   "source": [
    "The three different type of Boolean Operators are - \n",
    "```AND```, ```OR```,```Not```"
   ]
  },
  {
   "cell_type": "markdown",
   "id": "7548667a-797a-49f1-85bb-a3034b507f0e",
   "metadata": {
    "tags": []
   },
   "source": [
    "## Q3. Make a list of each Boolean operator&#39;s truth tables (i.e. every possible combination of Boolean values for the operator and what it evaluate )."
   ]
  },
  {
   "cell_type": "markdown",
   "id": "840f428d-472a-4c36-8653-2e56f2fd4eb6",
   "metadata": {},
   "source": [
    "**LOGICAL AND**\n",
    "- True And True is **True** \n",
    "- False AND True is **False** \n",
    "- False AND False is **False**\n",
    "\n",
    " **LOGICAL OR**\n",
    "- True OR False is **True** \n",
    "- False OR False is **False**\n",
    "- True OR True is **True**\n",
    "\n",
    "**LOGICAL NOT**\n",
    "- ! True(NOT TRUE)  is **False**\n",
    "- ! False(NOT FALSE) is **True** "
   ]
  },
  {
   "cell_type": "markdown",
   "id": "51745024-1a67-4fac-9f7c-dd3820436e6e",
   "metadata": {},
   "source": [
    "## Q4. What are the values of the following expressions?"
   ]
  },
  {
   "cell_type": "code",
   "execution_count": 2,
   "id": "25e4bfa2-fa2e-40b2-9152-fc7088731f94",
   "metadata": {},
   "outputs": [
    {
     "name": "stdout",
     "output_type": "stream",
     "text": [
      "False\n",
      "False\n",
      "True\n",
      "False\n",
      "False\n",
      "True\n"
     ]
    }
   ],
   "source": [
    "print((5>4) and (3==5))\n",
    "print(not(5>4))\n",
    "print((5>4) or (3==5))\n",
    "print(not(5>4) or (3==5))\n",
    "print((True and True) and (True==False))\n",
    "print((not(False))or(not(True)))"
   ]
  },
  {
   "cell_type": "markdown",
   "id": "fc1a00f8-5285-4000-aab9-efb1332e4a6d",
   "metadata": {},
   "source": [
    "## Q5. What are the six comparison operators?"
   ]
  },
  {
   "cell_type": "markdown",
   "id": "98e2704c-332b-4927-bbee-4ce3d3ade61a",
   "metadata": {},
   "source": [
    "The six comparison operators are - \n",
    "- ```==``` ( equals to) \n",
    "- ``>``( less than) \n",
    "- ```<``` (greater than)\n",
    "- ```>=``` ( less than or equal to)\n",
    "- ```<=``` ( greater than or equal to) \n",
    "- ```!=``` ( not equal to )"
   ]
  },
  {
   "cell_type": "markdown",
   "id": "f8724a77-0002-41c5-bd59-fd427ef34889",
   "metadata": {},
   "source": [
    "## Q6. How do you tell the difference between the equal to and assignment operators?Describe a condition and when you would use one."
   ]
  },
  {
   "cell_type": "markdown",
   "id": "8fdfbea0-0897-4df3-a0e2-a3f401fbafe5",
   "metadata": {},
   "source": [
    "``` == ``` it is the equal to operator in python that operates on two operands and evaluates the variable if they stores/ contains the same value whereas ```=``` is known to be an assignment operator that is used to assign / store a value into a defined variable."
   ]
  },
  {
   "cell_type": "code",
   "execution_count": 3,
   "id": "9b5eca06-574a-4586-ab46-e9799571a5ab",
   "metadata": {},
   "outputs": [
    {
     "name": "stdout",
     "output_type": "stream",
     "text": [
      "x : 2\n",
      "y : 4\n"
     ]
    }
   ],
   "source": [
    "# Assigning values to the variables and printing them via Print command \n",
    "x= 2 \n",
    "y=4 \n",
    "print ('x :',x)\n",
    "print('y :',y)"
   ]
  },
  {
   "cell_type": "code",
   "execution_count": 4,
   "id": "4cbf89ff-5347-4918-ab12-fed60a8f4b05",
   "metadata": {},
   "outputs": [
    {
     "name": "stdout",
     "output_type": "stream",
     "text": [
      "false\n"
     ]
    }
   ],
   "source": [
    "# Evaluating the two variable using the == operator and printing the required output\n",
    "if x==y: \n",
    "    print(\"True\") \n",
    "else:\n",
    "    print(\"false\")"
   ]
  },
  {
   "cell_type": "markdown",
   "id": "20579bff-b2d4-4636-b272-68f97f49ce80",
   "metadata": {
    "jp-MarkdownHeadingCollapsed": true,
    "tags": []
   },
   "source": [
    "## Q7. Identify the three blocks in this code:\n"
   ]
  },
  {
   "cell_type": "code",
   "execution_count": 5,
   "id": "6a945f17-c114-4a1d-8780-489fa6cb3653",
   "metadata": {},
   "outputs": [
    {
     "name": "stdout",
     "output_type": "stream",
     "text": [
      "ham\n",
      "spam\n",
      "spam\n"
     ]
    }
   ],
   "source": [
    "spam = 0\n",
    "if spam == 10:\n",
    "    print('eggs') #Block 1\n",
    "if spam > 5:\n",
    "    print('bacon') #Block 2\n",
    "else:\n",
    "    print('ham') #Block 3\n",
    "    print('spam')\n",
    "    print('spam')"
   ]
  },
  {
   "cell_type": "markdown",
   "id": "45ba82b4-3c43-410a-8608-cd5782e6696e",
   "metadata": {},
   "source": [
    "## Q8. Write code that prints Hello if 1 is stored in spam, prints Howdy if 2 is stored in spam, and prints Greetings! if anything else is stored in spam.\n",
    "\n"
   ]
  },
  {
   "cell_type": "code",
   "execution_count": 6,
   "id": "34c2520b-51cf-44d4-965c-bebd08c16500",
   "metadata": {},
   "outputs": [],
   "source": [
    "def output(spam):\n",
    "    if (spam==1):\n",
    "        print(\"Howdy\")\n",
    "    elif spam==2 :\n",
    "        print(\"spam\")\n",
    "    else:\n",
    "        print(\"Greetings\")\n",
    "        "
   ]
  },
  {
   "cell_type": "code",
   "execution_count": 7,
   "id": "e2535a3e-2ddb-46e4-92db-b7e0efd0bdd2",
   "metadata": {},
   "outputs": [
    {
     "name": "stdin",
     "output_type": "stream",
     "text": [
      "Enter the number: 2\n"
     ]
    }
   ],
   "source": [
    "spam=(input(\"Enter the number:\"))"
   ]
  },
  {
   "cell_type": "code",
   "execution_count": 8,
   "id": "d0e1251a-840c-42b3-aae3-534c1adf2dd5",
   "metadata": {},
   "outputs": [
    {
     "name": "stdout",
     "output_type": "stream",
     "text": [
      "Greetings\n"
     ]
    }
   ],
   "source": [
    "output(spam)"
   ]
  },
  {
   "cell_type": "markdown",
   "id": "0936b506-a530-4f22-ad1c-f21bcbc8e6ac",
   "metadata": {
    "tags": []
   },
   "source": [
    "## Q9. If your programme is stuck in an endless loop, what keys you’ll press?"
   ]
  },
  {
   "cell_type": "markdown",
   "id": "97544d3c-cec1-4e1d-8d16-140440ec8cd5",
   "metadata": {},
   "source": [
    " To stop and infinite loop ,kindly use ```Ctrl + C``` keys.\n",
    " \n",
    " Try using the below code"
   ]
  },
  {
   "cell_type": "code",
   "execution_count": 9,
   "id": "373c4ece-25ed-42c9-8f16-2c4fca92297f",
   "metadata": {},
   "outputs": [],
   "source": [
    "a=2\n",
    "i =0"
   ]
  },
  {
   "cell_type": "markdown",
   "id": "6a5d96a7-e00b-4ac0-86ff-d6992480ec2f",
   "metadata": {},
   "source": [
    "while(a>i):\n",
    "    print(a,i)"
   ]
  },
  {
   "cell_type": "markdown",
   "id": "e3389f35-fb0d-428e-8b8e-80ec176eb079",
   "metadata": {},
   "source": [
    "## Q10. How can you tell the difference between break and continue?"
   ]
  },
  {
   "cell_type": "markdown",
   "id": "97353a60-a20f-463f-b9bc-b38f0f2e11f5",
   "metadata": {},
   "source": [
    "A ```Break``` statement is used to terminate the loop whenever a particular condition is satisfied.The break statement will end the innermost loop if it is contained within a nested loop that is the loop inside the other loop. It is used to end the loop that it is enclosed in."
   ]
  },
  {
   "cell_type": "code",
   "execution_count": 10,
   "id": "828e8383-fc3e-4007-92d2-690b6626b6ed",
   "metadata": {},
   "outputs": [
    {
     "name": "stdout",
     "output_type": "stream",
     "text": [
      "P\n",
      "a\n",
      "n\n",
      "Over\n"
     ]
    }
   ],
   "source": [
    "# example\n",
    "\n",
    "for char in \"Pankaj\":\n",
    "    if char == \"k\":\n",
    "        break\n",
    "    print(char)\n",
    "\n",
    "print(\"Over\")"
   ]
  },
  {
   "cell_type": "markdown",
   "id": "74a427c5-8351-478a-bbc4-9b92eccbd4d5",
   "metadata": {},
   "source": [
    "The ```continue``` statement skips the remaining lines of code, for the current iteration of the loop. In this case, the loop does not end, it continues with the next iteration."
   ]
  },
  {
   "cell_type": "code",
   "execution_count": 11,
   "id": "8ada0c58-a21a-476c-b9dc-a58a66a31511",
   "metadata": {},
   "outputs": [
    {
     "name": "stdout",
     "output_type": "stream",
     "text": [
      "P\n",
      "n\n",
      "k\n",
      "j\n",
      "Over\n"
     ]
    }
   ],
   "source": [
    "#example \n",
    "for char in \"Pankaj\":\n",
    "    if char == \"a\":\n",
    "        continue\n",
    "    print(char)\n",
    "\n",
    "print(\"Over\")"
   ]
  },
  {
   "cell_type": "markdown",
   "id": "91344102-3a15-462b-a38a-2711dab5cd3e",
   "metadata": {},
   "source": [
    "This example is similar to the above example of the break statement, the difference here is that the break statement is replaced with the continue statement. So here we are printing the characters of the string ```\"Pankaj\"``` but when the character \"a\" is encountered then it skips that character and jumps to the next iteration."
   ]
  },
  {
   "cell_type": "markdown",
   "id": "f4a2c696-9f15-41af-b399-236f790a38e1",
   "metadata": {
    "jp-MarkdownHeadingCollapsed": true,
    "tags": []
   },
   "source": [
    "## Q11. In a for loop, what is the difference between range(10), range(0, 10), and range(0, 10, 1)?"
   ]
  },
  {
   "cell_type": "markdown",
   "id": "abc2afaa-4244-4ccc-b921-40eaa698708a",
   "metadata": {},
   "source": [
    "In all the methods ```range(10)``` , ```range(0,10) ``` , ```range(0,10,1)``` the forloop runs till the it reaches the 10th position, the slightest difference in all three statments is that in ```range(10)``` starts from 0 up to 10 , the  ```range(0, 10)```  comanding to start  the loop 0 till is reaches 10, and ```range(0, 10, 1)``` tells the loop to increment the value by 1 at every iteration untill raches 10. "
   ]
  },
  {
   "cell_type": "markdown",
   "id": "d5dea654-1bee-49cc-8db5-40f40e2d661f",
   "metadata": {},
   "source": [
    "## Q12. Write a short program that prints the numbers 1 to 10 using a for loop. Then write an equivalent program that prints the numbers 1 to 10 using a while loop."
   ]
  },
  {
   "cell_type": "code",
   "execution_count": 12,
   "id": "97fab1b7-b086-465c-bd86-3d4470f9c765",
   "metadata": {},
   "outputs": [
    {
     "name": "stdout",
     "output_type": "stream",
     "text": [
      "0\n",
      "1\n",
      "2\n",
      "3\n",
      "4\n",
      "5\n",
      "6\n",
      "7\n",
      "8\n",
      "9\n",
      "10\n"
     ]
    }
   ],
   "source": [
    "for i in range(0,11):\n",
    "    print(i)"
   ]
  },
  {
   "cell_type": "code",
   "execution_count": 13,
   "id": "554e20c4-052b-480c-9393-0ef372ed716d",
   "metadata": {},
   "outputs": [
    {
     "name": "stdout",
     "output_type": "stream",
     "text": [
      "0\n",
      "1\n",
      "2\n",
      "3\n",
      "4\n",
      "5\n",
      "6\n",
      "7\n",
      "8\n",
      "9\n",
      "10\n"
     ]
    }
   ],
   "source": [
    "a= 11\n",
    "i=0\n",
    "while(a>i):\n",
    "    print(i)\n",
    "    i= i+1"
   ]
  },
  {
   "cell_type": "markdown",
   "id": "760108a8-fa23-4770-8f09-3844716d388c",
   "metadata": {},
   "source": [
    "## Q13. If you had a function named bacon() inside a module named spam, how would you call it after importing spam?"
   ]
  },
  {
   "cell_type": "markdown",
   "id": "0a14437b-1003-41b4-84ef-26b45fd4830c",
   "metadata": {},
   "source": [
    "As per the python module importing the function would be called by - spam.bacon() \n"
   ]
  },
  {
   "cell_type": "code",
   "execution_count": null,
   "id": "fb20b5d7-3291-40b1-bc9b-b3ab9b00d862",
   "metadata": {},
   "outputs": [],
   "source": []
  }
 ],
 "metadata": {
  "kernelspec": {
   "display_name": "Python 3 (ipykernel)",
   "language": "python",
   "name": "python3"
  },
  "language_info": {
   "codemirror_mode": {
    "name": "ipython",
    "version": 3
   },
   "file_extension": ".py",
   "mimetype": "text/x-python",
   "name": "python",
   "nbconvert_exporter": "python",
   "pygments_lexer": "ipython3",
   "version": "3.10.6"
  }
 },
 "nbformat": 4,
 "nbformat_minor": 5
}
