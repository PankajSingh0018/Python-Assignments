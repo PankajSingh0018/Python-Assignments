{
 "cells": [
  {
   "cell_type": "markdown",
   "id": "60018646-59ce-49ee-826a-eda3da53e763",
   "metadata": {},
   "source": [
    "# Python Assignment-3 (Solved)"
   ]
  },
  {
   "cell_type": "markdown",
   "id": "bd5ad145-83ea-4990-8101-5555d571e63f",
   "metadata": {},
   "source": [
    "## Q1- Why are functions advantageous to have in your programs?"
   ]
  },
  {
   "cell_type": "markdown",
   "id": "d0edbe04-e8ea-40e0-840a-3a8b5c011883",
   "metadata": {},
   "source": [
    "A program having function has following advantage- \n",
    " 1- A function can be reused many times just by calling the name of the funtion and passingh the arguments which helps in reducing the time for writing the long programs.\n",
    " 2- Having mutliple functions within a single program increases the readibilty as it is easier to read shorter programs."
   ]
  },
  {
   "cell_type": "markdown",
   "id": "14ebe2fb-6845-4521-8be7-a9caa68545d4",
   "metadata": {
    "tags": []
   },
   "source": [
    "## Q2- When does the code in a function run: when it&#39;s specified or when it is called?"
   ]
  },
  {
   "cell_type": "markdown",
   "id": "bb820451-fcea-4ec7-a60d-d979b31b0f4d",
   "metadata": {},
   "source": [
    "The codes inside the function only run when a function get called"
   ]
  },
  {
   "cell_type": "code",
   "execution_count": 3,
   "id": "ceb1575c-2a49-4f24-a458-7a67f70c468e",
   "metadata": {},
   "outputs": [],
   "source": [
    "# Function is specified / created \n",
    "def func( ): \n",
    "    pass\n",
    "\n",
    "# function get called \n",
    "a= func()"
   ]
  },
  {
   "cell_type": "markdown",
   "id": "8b225334-b84c-4ad8-9d8d-f77d2300266f",
   "metadata": {},
   "source": [
    "## Q3- What statement creates a function?"
   ]
  },
  {
   "cell_type": "markdown",
   "id": "811e39bb-b69f-41db-a8f4-6431572f218a",
   "metadata": {},
   "source": [
    "The ```def``` statement a function "
   ]
  },
  {
   "cell_type": "code",
   "execution_count": 4,
   "id": "6f746983-a10f-43ca-a4ad-471f7a7d3782",
   "metadata": {},
   "outputs": [],
   "source": [
    "# Function is specified / created \n",
    "def func( ): \n",
    "    pass"
   ]
  },
  {
   "cell_type": "markdown",
   "id": "dfc9f2b1-db78-4813-9073-d287691bcd59",
   "metadata": {},
   "source": [
    "## Q4- What is the difference between a function and a function call?"
   ]
  },
  {
   "cell_type": "markdown",
   "id": "e58e6941-12c6-4468-a0bd-08027ee5b76e",
   "metadata": {},
   "source": [
    "- The main difference between a function and a function call is that the function contains the code or the program to excute which for which a function is being created while a function call is to envoke the function to use the code inside the function.\n",
    "\n",
    "- Basically function is a block of code that does a particular operation and returns a result. A function call is the code used to pass control to a function"
   ]
  },
  {
   "cell_type": "markdown",
   "id": "865b453b-ce37-43be-b9ba-f9c72d4998ca",
   "metadata": {},
   "source": [
    "## Q5- How many global scopes are there in a Python program? How many local scopes?"
   ]
  },
  {
   "cell_type": "markdown",
   "id": "07210150-d94c-49a9-b3b8-b8cc45f2b022",
   "metadata": {},
   "source": [
    "**Global Scope** - A global scope is the top most scope in python program, script, or module. This Python scope contains all of the names that you define at the top level of a program or a module. Names in this Python scope are visible from everywhere in your code and ends with the termination of the complete program.\n",
    "\n",
    "**Local Scope**-Local (or function) scope is the code block or body of any Python function or lambda expression. This Python scope contains the names that you define inside the function. These names will only be visible from the code of the function. It’s created at function call, not at function definition, so you’ll have as many different local scopes as function calls. This is true even if you call the same function multiple times, or recursively. Each call will result in a new local scope being created.\n",
    "\n",
    "In Python we can have only one global scope and as many many as local scope."
   ]
  },
  {
   "cell_type": "markdown",
   "id": "7a90633c-df8d-46b0-88ac-dc21347700d5",
   "metadata": {},
   "source": [
    "## Q6- What happens to variables in a local scope when the function call returns?"
   ]
  },
  {
   "cell_type": "markdown",
   "id": "546f39fb-bacc-4906-958e-8c694dae14b2",
   "metadata": {},
   "source": [
    "- When a function body excute the return command, the local variable gets dissolved within the memory or we can say that the local variable gets deleted/removed "
   ]
  },
  {
   "cell_type": "markdown",
   "id": "0868e584-65e1-4344-ba68-6a4d40eb03fd",
   "metadata": {},
   "source": [
    "## Q7- What is the concept of a return value? Is it possible to have a return value in an expression?"
   ]
  },
  {
   "cell_type": "markdown",
   "id": "e098b401-0e3e-49b0-a942-e75e5813c4e6",
   "metadata": {},
   "source": [
    "- A return is a value that a function returns to the calling script or function when it completes its task.\n",
    "- A return value can be any one of the four variable types: handle, integer, object, or string. \n",
    "- The type of value your function returns depends largely on the task it performs.\n",
    "\n",
    "A return value can be used as a part of an expression "
   ]
  },
  {
   "cell_type": "markdown",
   "id": "7f21fe57-3d20-4202-adbe-bed4950497a4",
   "metadata": {},
   "source": [
    "## Q8 - If a function does not have a return statement, what is the return value of a call to that function?"
   ]
  },
  {
   "cell_type": "markdown",
   "id": "8121333d-570f-4233-914b-3bca38978641",
   "metadata": {},
   "source": [
    "- If no return statement appears in a function definition, control automatically returns to the calling function after the last statement of the called function is executed. In this case, the return value of the called function is undefined.\n",
    "- In simple words i the return statement is without any expression, then the special value ```None``` is returned. "
   ]
  },
  {
   "cell_type": "markdown",
   "id": "0a1f8c5d-a1e2-4208-989a-64db19886e5e",
   "metadata": {},
   "source": [
    "## Q9 - How do you make a function variable refer to the global variable?"
   ]
  },
  {
   "cell_type": "markdown",
   "id": "0f641b4e-3dbf-4593-bcce-8fe758215a2e",
   "metadata": {},
   "source": [
    "To make a funtion variable refer to the global variable is to use ```global``` keyword, that declares the variable as a global variable and can be accessible outside the function body."
   ]
  },
  {
   "cell_type": "code",
   "execution_count": 1,
   "id": "f7b214cd-8904-4e8f-89b5-a7ef29e76b93",
   "metadata": {},
   "outputs": [
    {
     "name": "stdout",
     "output_type": "stream",
     "text": [
      "Python is fantastic\n"
     ]
    }
   ],
   "source": [
    "def myfunc():\n",
    "  global x\n",
    "  x = \"fantastic\"\n",
    "\n",
    "myfunc()\n",
    "\n",
    "print(\"Python is \" + x)"
   ]
  },
  {
   "cell_type": "markdown",
   "id": "cdb20212-8572-4acf-97d4-db2024608479",
   "metadata": {},
   "source": [
    "## Q10- What is the data type of None?"
   ]
  },
  {
   "cell_type": "code",
   "execution_count": 2,
   "id": "52873449-7def-4726-9b54-5646ef6a5b77",
   "metadata": {},
   "outputs": [
    {
     "data": {
      "text/plain": [
       "NoneType"
      ]
     },
     "execution_count": 2,
     "metadata": {},
     "output_type": "execute_result"
    }
   ],
   "source": [
    "type (None) "
   ]
  },
  {
   "cell_type": "markdown",
   "id": "d1fc6bbb-a68f-4a9b-959b-1b5a2943cdba",
   "metadata": {},
   "source": [
    "## Q 11- What does the sentence import areallyourpetsnamederic do?"
   ]
  },
  {
   "cell_type": "markdown",
   "id": "e627cacc-d7cf-4cb6-bccd-6f4c723646f1",
   "metadata": {},
   "source": [
    "The ```import``` is a reversed keyword in Python that is used to invoke the inbuilt modules/libraries of the python.\n",
    "\n",
    "When a module is first imported, Python searches for the module and if found, it creates a module object 1, initializing it. If the named module cannot be found, a ModuleNotFoundError is raised."
   ]
  },
  {
   "cell_type": "code",
   "execution_count": 3,
   "id": "43c5bf5e-a0bd-4577-99d6-bcda1b983315",
   "metadata": {},
   "outputs": [
    {
     "ename": "ModuleNotFoundError",
     "evalue": "No module named 'areallyourpetsnamederic'",
     "output_type": "error",
     "traceback": [
      "\u001b[0;31m---------------------------------------------------------------------------\u001b[0m",
      "\u001b[0;31mModuleNotFoundError\u001b[0m                       Traceback (most recent call last)",
      "Cell \u001b[0;32mIn [3], line 1\u001b[0m\n\u001b[0;32m----> 1\u001b[0m \u001b[38;5;28;01mimport\u001b[39;00m \u001b[38;5;21;01mareallyourpetsnamederic\u001b[39;00m\n",
      "\u001b[0;31mModuleNotFoundError\u001b[0m: No module named 'areallyourpetsnamederic'"
     ]
    }
   ],
   "source": [
    "import areallyourpetsnamederic "
   ]
  },
  {
   "cell_type": "markdown",
   "id": "d6b429f5-d280-453a-b967-9077b15eb26b",
   "metadata": {},
   "source": [
    "## Q 12- If you had a bacon() feature in a spam module, what would you call it after importing spam?\n"
   ]
  },
  {
   "cell_type": "markdown",
   "id": "587f59e3-fe2c-4ec4-82d0-348d7ead9629",
   "metadata": {},
   "source": [
    "spam.bacon()"
   ]
  },
  {
   "cell_type": "markdown",
   "id": "1e17fadb-3de6-43b3-8d3f-b460a75751b4",
   "metadata": {},
   "source": [
    "## Q13- What can you do to save a programme from crashing if it encounters an error?\n"
   ]
  },
  {
   "cell_type": "markdown",
   "id": "168f770a-2221-48bc-8265-ee2c062af232",
   "metadata": {},
   "source": [
    "Use Try and Except python concept to not to encounter an error "
   ]
  },
  {
   "cell_type": "markdown",
   "id": "a8cefb39-9ccf-492e-a864-04b955e1f8f2",
   "metadata": {},
   "source": [
    "## Q14- What is the purpose of the try clause? What is the purpose of the except clause?mm"
   ]
  },
  {
   "cell_type": "markdown",
   "id": "cf3ee19f-15b3-454a-9f00-c87e9774a27f",
   "metadata": {},
   "source": [
    "The try block lets you test a block of code for errors. The except block lets you handle the error."
   ]
  },
  {
   "cell_type": "code",
   "execution_count": null,
   "id": "3653db6e-bf64-40a6-962f-8f2abea5e9ef",
   "metadata": {},
   "outputs": [],
   "source": []
  }
 ],
 "metadata": {
  "kernelspec": {
   "display_name": "Python 3 (ipykernel)",
   "language": "python",
   "name": "python3"
  },
  "language_info": {
   "codemirror_mode": {
    "name": "ipython",
    "version": 3
   },
   "file_extension": ".py",
   "mimetype": "text/x-python",
   "name": "python",
   "nbconvert_exporter": "python",
   "pygments_lexer": "ipython3",
   "version": "3.10.6"
  }
 },
 "nbformat": 4,
 "nbformat_minor": 5
}
