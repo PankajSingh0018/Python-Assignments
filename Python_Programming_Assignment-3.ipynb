{
 "cells": [
  {
   "cell_type": "markdown",
   "id": "13347599-1367-4ec9-936f-706e32ec74d8",
   "metadata": {},
   "source": [
    "# Python Programming Assignment-3 (Solved)"
   ]
  },
  {
   "cell_type": "markdown",
   "id": "045f781e-4be4-4158-8b4a-0c97c99b4269",
   "metadata": {},
   "source": [
    "## 1.\tWrite a Python Program to Check if a Number is Positive, Negative or Zero?"
   ]
  },
  {
   "cell_type": "code",
   "execution_count": 14,
   "id": "8c298ee3-1663-4a42-8225-83384132ebb5",
   "metadata": {},
   "outputs": [],
   "source": [
    "def check(num):\n",
    "    #num= number\n",
    "    if num > 0:\n",
    "        print( f\"  {num} you enter is positive\")\n",
    "    elif num<0:\n",
    "        print(f\"  {num}  you enter is negative\")\n",
    "    elif num==0:\n",
    "        print(f\" The number you enter is zero\")"
   ]
  },
  {
   "cell_type": "code",
   "execution_count": 15,
   "id": "99b0ca3c-c744-447b-a84b-f86f948de085",
   "metadata": {},
   "outputs": [
    {
     "name": "stdin",
     "output_type": "stream",
     "text": [
      "Enter the number you want to check : 0\n"
     ]
    }
   ],
   "source": [
    "number= int(input(\"Enter the number you want to check :\"))"
   ]
  },
  {
   "cell_type": "code",
   "execution_count": 16,
   "id": "6062f111-7ae1-42ba-ada7-0200a349b477",
   "metadata": {},
   "outputs": [
    {
     "name": "stdout",
     "output_type": "stream",
     "text": [
      " The number you enter is zero\n"
     ]
    }
   ],
   "source": [
    "function= check(number)"
   ]
  },
  {
   "cell_type": "markdown",
   "id": "23b4797b-1757-4b07-96c7-757115d8c79d",
   "metadata": {},
   "source": [
    "## 2.\tWrite a Python Program to Check if a Number is Odd or Even?"
   ]
  },
  {
   "cell_type": "code",
   "execution_count": 17,
   "id": "779a3031-faa0-4dcb-ac3a-d93f72c9727d",
   "metadata": {},
   "outputs": [],
   "source": [
    "def even_or_odd(num):\n",
    "    if num%2==0:\n",
    "        print(f\" {num} is an even number\")\n",
    "    else:\n",
    "        print(f\"{num} is an odd number\")"
   ]
  },
  {
   "cell_type": "code",
   "execution_count": 21,
   "id": "8235fe23-5562-493e-9e10-49febfb731cb",
   "metadata": {},
   "outputs": [
    {
     "name": "stdin",
     "output_type": "stream",
     "text": [
      "Enter the number you want to check if a number is an even or an odd number: 35\n"
     ]
    }
   ],
   "source": [
    "number=int(input(\"Enter the number you want to check if a number is an even or an odd number:\"))"
   ]
  },
  {
   "cell_type": "code",
   "execution_count": 22,
   "id": "64f3d16d-0e56-452f-8c39-0ef1ee00939f",
   "metadata": {},
   "outputs": [
    {
     "name": "stdout",
     "output_type": "stream",
     "text": [
      "35 is an odd number\n"
     ]
    }
   ],
   "source": [
    "even_or_odd(number)"
   ]
  },
  {
   "cell_type": "markdown",
   "id": "2b885619-edc8-455d-a21c-fea4adf58529",
   "metadata": {},
   "source": [
    "## 3.\tWrite a Python Program to Check Leap Year?"
   ]
  },
  {
   "cell_type": "code",
   "execution_count": 40,
   "id": "b2a943d5-e617-4485-be2e-1f5cbe72b3f3",
   "metadata": {},
   "outputs": [],
   "source": [
    "def leap_year(year):\n",
    "    if(year% 4==0):\n",
    "        if(year % 100 !=0):\n",
    "            if (year %400 ==0):\n",
    "                print(f\" {year} is a Leap Year\")\n",
    "    else:\n",
    "        print(f\"{year} is not a Leap Year\")"
   ]
  },
  {
   "cell_type": "code",
   "execution_count": 41,
   "id": "729dfd28-c9d2-498f-bc60-faa11e2c661d",
   "metadata": {},
   "outputs": [
    {
     "name": "stdin",
     "output_type": "stream",
     "text": [
      "Enter the year to be checked if it is a Leap year or not: 1990\n"
     ]
    }
   ],
   "source": [
    "year= int (input(\"Enter the year to be checked if it is a Leap year or not:\"))"
   ]
  },
  {
   "cell_type": "code",
   "execution_count": 42,
   "id": "94666c8c-ad40-4f65-8d9f-d6f0fcf7b76e",
   "metadata": {},
   "outputs": [
    {
     "name": "stdout",
     "output_type": "stream",
     "text": [
      "1990 is not a Leap Year\n"
     ]
    }
   ],
   "source": [
    "leap_year(year)"
   ]
  },
  {
   "cell_type": "markdown",
   "id": "db8e6a70-59ab-4f16-91b7-ffb128508a8d",
   "metadata": {},
   "source": [
    "## 4.\tWrite a Python Program to Check Prime Number ?"
   ]
  },
  {
   "cell_type": "code",
   "execution_count": 28,
   "id": "8e4b4639-9ae9-491b-bf9e-fdf3fe8e02ee",
   "metadata": {},
   "outputs": [
    {
     "name": "stdin",
     "output_type": "stream",
     "text": [
      "enter the number: 27\n"
     ]
    },
    {
     "name": "stdout",
     "output_type": "stream",
     "text": [
      "27 is not a prime number\n"
     ]
    }
   ],
   "source": [
    "num= int(input(\"enter the number:\"))\n",
    "if num > 1:\n",
    "    # Iterate from 2 to n / 2\n",
    "    for i in range(2, int(num/2)+1):\n",
    "        # If num is divisible by any number between\n",
    "        # 2 and n / 2, it is not prime\n",
    "        if (num % i) == 0:\n",
    "            print(num, \"is not a prime number\")\n",
    "            break\n",
    "    else:\n",
    "        print(num, \"is a prime number\")\n",
    "else:\n",
    "    print(num, \"is not a prime number\")"
   ]
  },
  {
   "cell_type": "markdown",
   "id": "f61f6d69-f6ce-4143-a39a-b79a53271602",
   "metadata": {},
   "source": [
    "## 5.\tWrite a Python Program to Print all Prime Numbers in an Interval of 1-10000?"
   ]
  },
  {
   "cell_type": "code",
   "execution_count": 29,
   "id": "38869396-b4f7-457f-88ee-4a00b2840ecf",
   "metadata": {},
   "outputs": [
    {
     "name": "stdout",
     "output_type": "stream",
     "text": [
      "Prime numbers between 1 and 1000 are:\n",
      "2\n",
      "3\n",
      "5\n",
      "7\n",
      "11\n",
      "13\n",
      "17\n",
      "19\n",
      "23\n",
      "29\n",
      "31\n",
      "37\n",
      "41\n",
      "43\n",
      "47\n",
      "53\n",
      "59\n",
      "61\n",
      "67\n",
      "71\n",
      "73\n",
      "79\n",
      "83\n",
      "89\n",
      "97\n",
      "101\n",
      "103\n",
      "107\n",
      "109\n",
      "113\n",
      "127\n",
      "131\n",
      "137\n",
      "139\n",
      "149\n",
      "151\n",
      "157\n",
      "163\n",
      "167\n",
      "173\n",
      "179\n",
      "181\n",
      "191\n",
      "193\n",
      "197\n",
      "199\n",
      "211\n",
      "223\n",
      "227\n",
      "229\n",
      "233\n",
      "239\n",
      "241\n",
      "251\n",
      "257\n",
      "263\n",
      "269\n",
      "271\n",
      "277\n",
      "281\n",
      "283\n",
      "293\n",
      "307\n",
      "311\n",
      "313\n",
      "317\n",
      "331\n",
      "337\n",
      "347\n",
      "349\n",
      "353\n",
      "359\n",
      "367\n",
      "373\n",
      "379\n",
      "383\n",
      "389\n",
      "397\n",
      "401\n",
      "409\n",
      "419\n",
      "421\n",
      "431\n",
      "433\n",
      "439\n",
      "443\n",
      "449\n",
      "457\n",
      "461\n",
      "463\n",
      "467\n",
      "479\n",
      "487\n",
      "491\n",
      "499\n",
      "503\n",
      "509\n",
      "521\n",
      "523\n",
      "541\n",
      "547\n",
      "557\n",
      "563\n",
      "569\n",
      "571\n",
      "577\n",
      "587\n",
      "593\n",
      "599\n",
      "601\n",
      "607\n",
      "613\n",
      "617\n",
      "619\n",
      "631\n",
      "641\n",
      "643\n",
      "647\n",
      "653\n",
      "659\n",
      "661\n",
      "673\n",
      "677\n",
      "683\n",
      "691\n",
      "701\n",
      "709\n",
      "719\n",
      "727\n",
      "733\n",
      "739\n",
      "743\n",
      "751\n",
      "757\n",
      "761\n",
      "769\n",
      "773\n",
      "787\n",
      "797\n",
      "809\n",
      "811\n",
      "821\n",
      "823\n",
      "827\n",
      "829\n",
      "839\n",
      "853\n",
      "857\n",
      "859\n",
      "863\n",
      "877\n",
      "881\n",
      "883\n",
      "887\n",
      "907\n",
      "911\n",
      "919\n",
      "929\n",
      "937\n",
      "941\n",
      "947\n",
      "953\n",
      "967\n",
      "971\n",
      "977\n",
      "983\n",
      "991\n",
      "997\n"
     ]
    }
   ],
   "source": [
    "lower = 1\n",
    "upper = 1000\n",
    "\n",
    "print(\"Prime numbers between\", lower, \"and\", upper, \"are:\")\n",
    "\n",
    "for num in range(lower, upper + 1):\n",
    "   # all prime numbers are greater than 1\n",
    "   if num > 1:\n",
    "       for i in range(2, num):\n",
    "           if (num % i) == 0:\n",
    "               break\n",
    "       else:\n",
    "           print(num)"
   ]
  },
  {
   "cell_type": "code",
   "execution_count": null,
   "id": "fe920b03-3a73-4807-9cc8-e2992808e0b3",
   "metadata": {},
   "outputs": [],
   "source": []
  }
 ],
 "metadata": {
  "kernelspec": {
   "display_name": "Python 3 (ipykernel)",
   "language": "python",
   "name": "python3"
  },
  "language_info": {
   "codemirror_mode": {
    "name": "ipython",
    "version": 3
   },
   "file_extension": ".py",
   "mimetype": "text/x-python",
   "name": "python",
   "nbconvert_exporter": "python",
   "pygments_lexer": "ipython3",
   "version": "3.10.6"
  }
 },
 "nbformat": 4,
 "nbformat_minor": 5
}
