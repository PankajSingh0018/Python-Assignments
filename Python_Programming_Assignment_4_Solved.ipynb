{
  "nbformat": 4,
  "nbformat_minor": 0,
  "metadata": {
    "colab": {
      "provenance": [],
      "authorship_tag": "ABX9TyOAKll+jsMrCm5m8iGe12cx",
      "include_colab_link": true
    },
    "kernelspec": {
      "name": "python3",
      "display_name": "Python 3"
    },
    "language_info": {
      "name": "python"
    }
  },
  "cells": [
    {
      "cell_type": "markdown",
      "metadata": {
        "id": "view-in-github",
        "colab_type": "text"
      },
      "source": [
        "<a href=\"https://colab.research.google.com/github/PankajSingh0018/Python-Assignments/blob/main/Python_Programming_Assignment_4_Solved.ipynb\" target=\"_parent\"><img src=\"https://colab.research.google.com/assets/colab-badge.svg\" alt=\"Open In Colab\"/></a>"
      ]
    },
    {
      "cell_type": "markdown",
      "source": [
        "# Python Programming Assignment 4 - Solved"
      ],
      "metadata": {
        "id": "dI0Fwr5c5l-O"
      }
    },
    {
      "cell_type": "markdown",
      "source": [
        "## Q1-Write a Python Program to Find the Factorial of a Number?"
      ],
      "metadata": {
        "id": "j58kkKlP5tSG"
      }
    },
    {
      "cell_type": "code",
      "source": [
        "def factorial(num):\n",
        "  result =1\n",
        "  for i in range (1, num+1):\n",
        "    result = result*i\n",
        "  return result"
      ],
      "metadata": {
        "id": "ftsS7TRm5rku"
      },
      "execution_count": null,
      "outputs": []
    },
    {
      "cell_type": "code",
      "source": [
        "Number= int(input(\"Enter the number whose Factorial is to be calculated :\"))"
      ],
      "metadata": {
        "colab": {
          "base_uri": "https://localhost:8080/"
        },
        "id": "UPJiOhG552x-",
        "outputId": "5da7c066-5d4c-486d-b529-82b167ad0576"
      },
      "execution_count": null,
      "outputs": [
        {
          "name": "stdout",
          "output_type": "stream",
          "text": [
            "Enter the number whose Factorial is to be calculated :8\n"
          ]
        }
      ]
    },
    {
      "cell_type": "code",
      "source": [
        "Fact= factorial(Number)"
      ],
      "metadata": {
        "id": "u1MAYhrU58xk"
      },
      "execution_count": null,
      "outputs": []
    },
    {
      "cell_type": "code",
      "source": [
        "print(f\" The Factorial of the number {Number} is {Fact}\")"
      ],
      "metadata": {
        "colab": {
          "base_uri": "https://localhost:8080/"
        },
        "id": "PROzVXzh6H5o",
        "outputId": "04e21fb3-0de0-4bf3-f015-33705619daa7"
      },
      "execution_count": null,
      "outputs": [
        {
          "output_type": "stream",
          "name": "stdout",
          "text": [
            " The Factorial of the number 8 is 40320\n"
          ]
        }
      ]
    },
    {
      "cell_type": "markdown",
      "source": [
        "Q2-\tWrite a Python Program to Display the multiplication Table?"
      ],
      "metadata": {
        "id": "-n59Sa8S69L7"
      }
    },
    {
      "cell_type": "code",
      "source": [
        "def multiplication(num):\n",
        "  for i in range (1, num+1):\n",
        "    print(f\"{num}X{i} = {num*i}\")"
      ],
      "metadata": {
        "id": "qXFAUsLv65fK"
      },
      "execution_count": null,
      "outputs": []
    },
    {
      "cell_type": "code",
      "source": [
        "Number= int(input(\"Enter a number:\"))"
      ],
      "metadata": {
        "colab": {
          "base_uri": "https://localhost:8080/"
        },
        "id": "0fQzfDB58Krl",
        "outputId": "2b6f582c-4350-4f07-8e1c-ee8db1b2c414"
      },
      "execution_count": null,
      "outputs": [
        {
          "name": "stdout",
          "output_type": "stream",
          "text": [
            "Enter a number:10\n"
          ]
        }
      ]
    },
    {
      "cell_type": "code",
      "source": [
        "Range= int(input(\"Enter the range:\"))"
      ],
      "metadata": {
        "colab": {
          "base_uri": "https://localhost:8080/"
        },
        "id": "bOkbGKdR8VD0",
        "outputId": "44ec1c57-1c96-456d-9d9b-816107478ef2"
      },
      "execution_count": null,
      "outputs": [
        {
          "name": "stdout",
          "output_type": "stream",
          "text": [
            "Enter the range:20\n"
          ]
        }
      ]
    },
    {
      "cell_type": "code",
      "source": [
        "multiplication(Range)"
      ],
      "metadata": {
        "colab": {
          "base_uri": "https://localhost:8080/"
        },
        "id": "ckZyGAl28a_f",
        "outputId": "ea87f6ce-a09a-4542-ae74-c8f913380f5f"
      },
      "execution_count": null,
      "outputs": [
        {
          "output_type": "stream",
          "name": "stdout",
          "text": [
            "20X1 = 20\n",
            "20X2 = 40\n",
            "20X3 = 60\n",
            "20X4 = 80\n",
            "20X5 = 100\n",
            "20X6 = 120\n",
            "20X7 = 140\n",
            "20X8 = 160\n",
            "20X9 = 180\n",
            "20X10 = 200\n",
            "20X11 = 220\n",
            "20X12 = 240\n",
            "20X13 = 260\n",
            "20X14 = 280\n",
            "20X15 = 300\n",
            "20X16 = 320\n",
            "20X17 = 340\n",
            "20X18 = 360\n",
            "20X19 = 380\n"
          ]
        }
      ]
    },
    {
      "cell_type": "markdown",
      "source": [
        "## Q3.\tWrite a Python Program to Print the Fibonacci sequence?"
      ],
      "metadata": {
        "id": "RNkwfCIR9ShF"
      }
    },
    {
      "cell_type": "code",
      "source": [
        "def fibonacci(n):\n",
        "    a, b = 0, 1\n",
        "    for i in range(n):\n",
        "        print(a, end=\", \")\n",
        "        a, b = b, a + b\n",
        " "
      ],
      "metadata": {
        "id": "-hislcsG8f1h"
      },
      "execution_count": null,
      "outputs": []
    },
    {
      "cell_type": "code",
      "source": [
        "number= int(input(\"Enter the term of the fibonacci:\"))"
      ],
      "metadata": {
        "colab": {
          "base_uri": "https://localhost:8080/"
        },
        "id": "lOe6aFJT_tvM",
        "outputId": "bae439c2-3c80-43f3-ecdd-aa0c03fed752"
      },
      "execution_count": null,
      "outputs": [
        {
          "name": "stdout",
          "output_type": "stream",
          "text": [
            "Enter the term of the fibonacci:25\n"
          ]
        }
      ]
    },
    {
      "cell_type": "code",
      "source": [
        "fibonacci(number)"
      ],
      "metadata": {
        "colab": {
          "base_uri": "https://localhost:8080/"
        },
        "id": "Io2POHGsAN-R",
        "outputId": "ea3a9e1c-bd21-4b5b-d33e-ba83a1e04d92"
      },
      "execution_count": null,
      "outputs": [
        {
          "output_type": "stream",
          "name": "stdout",
          "text": [
            "0, 1, 1, 2, 3, 5, 8, 13, 21, 34, 55, 89, 144, 233, 377, 610, 987, 1597, 2584, 4181, 6765, 10946, 17711, 28657, 46368, "
          ]
        }
      ]
    },
    {
      "cell_type": "markdown",
      "source": [
        "## Q4.\tWrite a Python Program to Check Armstrong Number?"
      ],
      "metadata": {
        "id": "itDkmWK2ENkc"
      }
    },
    {
      "cell_type": "code",
      "source": [
        "def is_armstrong(n):\n",
        "    num = n\n",
        "    sum = 0\n",
        "    length = len(str(n))\n",
        "    while n > 0:\n",
        "        digit = n % 10\n",
        "        sum += digit ** length\n",
        "        n //= 10\n",
        "    return sum == num\n",
        "\n",
        "number = int(input(\"Enter a number: \"))\n",
        "if is_armstrong(number):\n",
        "    print(f\"{number} is an Armstrong number\")\n",
        "else:\n",
        "    print(f\"{number} is not an Armstrong number\")"
      ],
      "metadata": {
        "colab": {
          "base_uri": "https://localhost:8080/"
        },
        "id": "vmwKv03eEQYb",
        "outputId": "f2f04ffd-2046-4822-cc6f-45c4b2c496c6"
      },
      "execution_count": null,
      "outputs": [
        {
          "output_type": "stream",
          "name": "stdout",
          "text": [
            "Enter a number: 259983\n",
            "259983 is not an Armstrong number\n"
          ]
        }
      ]
    },
    {
      "cell_type": "markdown",
      "source": [
        "\n",
        "## Q5.\tWrite a Python Program to Find Armstrong Number in an Interval?"
      ],
      "metadata": {
        "id": "77N-zMDdNrth"
      }
    },
    {
      "cell_type": "code",
      "source": [
        "def is_armstrong(n):\n",
        "    num = n\n",
        "    sum = 0\n",
        "    length = len(str(n))\n",
        "    while n > 0:\n",
        "        digit = n % 10\n",
        "        sum += digit ** length\n",
        "        n //= 10\n",
        "    return sum == num\n",
        "\n",
        "start = int(input(\"Enter the starting number: \"))\n",
        "end = int(input(\"Enter the ending number: \"))\n",
        "\n",
        "for i in range(start, end + 1):\n",
        "    if is_armstrong(i):\n",
        "        print(i)"
      ],
      "metadata": {
        "colab": {
          "base_uri": "https://localhost:8080/"
        },
        "id": "1DOXJPfwJl7W",
        "outputId": "10648718-4eed-4d90-c2d2-c382666e2774"
      },
      "execution_count": null,
      "outputs": [
        {
          "output_type": "stream",
          "name": "stdout",
          "text": [
            "Enter the starting number: 2\n",
            "Enter the ending number: 999\n",
            "2\n",
            "3\n",
            "4\n",
            "5\n",
            "6\n",
            "7\n",
            "8\n",
            "9\n",
            "153\n",
            "370\n",
            "371\n",
            "407\n"
          ]
        }
      ]
    },
    {
      "cell_type": "markdown",
      "source": [
        "## Q6.\tWrite a Python Program to Find the Sum of Natural Numbers?"
      ],
      "metadata": {
        "id": "K1BNU3GcOGom"
      }
    },
    {
      "cell_type": "code",
      "source": [
        "def sum_of_natural_numbers(n):\n",
        "    return sum(range(1, n + 1))\n",
        "\n",
        "number = int(input(\"Enter a number: \"))\n",
        "print(f\"The sum of natural numbers up to {number} is {sum_of_natural_numbers(number)}\")"
      ],
      "metadata": {
        "colab": {
          "base_uri": "https://localhost:8080/"
        },
        "id": "7mfQHWEkN4jG",
        "outputId": "271811ac-4593-4dbd-c5e4-73f93ce05470"
      },
      "execution_count": null,
      "outputs": [
        {
          "output_type": "stream",
          "name": "stdout",
          "text": [
            "Enter a number: 25\n",
            "The sum of natural numbers up to 25 is 325\n"
          ]
        }
      ]
    },
    {
      "cell_type": "code",
      "source": [],
      "metadata": {
        "id": "zfFghh6iOKIH"
      },
      "execution_count": null,
      "outputs": []
    }
  ]
}