{
 "cells": [
  {
   "cell_type": "markdown",
   "id": "8487eb81-3dc2-442d-8d42-7c680a99583c",
   "metadata": {},
   "source": [
    "# Python Assignment-4 (Solved)"
   ]
  },
  {
   "cell_type": "markdown",
   "id": "e2e6256a-2568-4f68-9339-50e4ce8a160a",
   "metadata": {},
   "source": [
    "## 1. What exactly is []?"
   ]
  },
  {
   "cell_type": "markdown",
   "id": "5880131a-4309-4035-8a1f-a97b507b38ab",
   "metadata": {},
   "source": [
    "In Python the sqaure brackets refers to the list, here it is an empty list."
   ]
  },
  {
   "cell_type": "code",
   "execution_count": 1,
   "id": "a0346e37-0138-4918-aa47-b7082310867c",
   "metadata": {},
   "outputs": [
    {
     "data": {
      "text/plain": [
       "list"
      ]
     },
     "execution_count": 1,
     "metadata": {},
     "output_type": "execute_result"
    }
   ],
   "source": [
    "type([])"
   ]
  },
  {
   "cell_type": "markdown",
   "id": "62371e5b-7f35-40cd-93a9-5362b2ad7237",
   "metadata": {},
   "source": [
    "## 2. In a list of values stored in a variable called spam, how would you assign the value 'hello' as the third value? (Assume [2, 4, 6, 8, 10] are in spam.)"
   ]
  },
  {
   "cell_type": "markdown",
   "id": "8509b2f6-cb1c-4405-a6a6-da6cf647611f",
   "metadata": {},
   "source": [
    " Ans - We can add a specific value in a list to a particular index is by using the list.insert(index, value)."
   ]
  },
  {
   "cell_type": "code",
   "execution_count": 2,
   "id": "9b71e1c3-07bb-4e5f-96b2-b0a4a068db03",
   "metadata": {},
   "outputs": [
    {
     "data": {
      "text/plain": [
       "[2, 4, 6, 8, 10]"
      ]
     },
     "execution_count": 2,
     "metadata": {},
     "output_type": "execute_result"
    }
   ],
   "source": [
    "spam = [2,4,6,8,10]\n",
    "spam"
   ]
  },
  {
   "cell_type": "code",
   "execution_count": 3,
   "id": "03c02487-be5c-42ad-a87f-99fa1bba75a1",
   "metadata": {},
   "outputs": [],
   "source": [
    "spam.insert(2,\"hello\")"
   ]
  },
  {
   "cell_type": "code",
   "execution_count": 4,
   "id": "fe74dcfd-c94f-4e92-9ab1-3ccb03896ff1",
   "metadata": {},
   "outputs": [
    {
     "data": {
      "text/plain": [
       "[2, 4, 'hello', 6, 8, 10]"
      ]
     },
     "execution_count": 4,
     "metadata": {},
     "output_type": "execute_result"
    }
   ],
   "source": [
    "spam"
   ]
  },
  {
   "cell_type": "markdown",
   "id": "60c3de6a-fa0e-43b3-b447-8fe8e779f74f",
   "metadata": {},
   "source": [
    "## Let's pretend the spam includes the list ```['a', 'b', 'c', 'd']``` for the next three queries."
   ]
  },
  {
   "cell_type": "markdown",
   "id": "762ed0a5-4688-4802-b21a-f9bbfa01fb24",
   "metadata": {
    "tags": []
   },
   "source": [
    "3- What is the value of spam[int(int('3' * 2) / 11)]?"
   ]
  },
  {
   "cell_type": "markdown",
   "id": "c8191203-8759-41bb-83ab-a7dd6e7728f2",
   "metadata": {},
   "source": [
    "Here the ```[(int (int('3'*2)/11))]``` gives the index of the list  ```[(int (33/'11)]```which is ```[3]``` which will finally print the 4th value of the list "
   ]
  },
  {
   "cell_type": "code",
   "execution_count": 5,
   "id": "531eaa3a-743d-40a9-96db-a3bfd95fef1a",
   "metadata": {},
   "outputs": [
    {
     "data": {
      "text/plain": [
       "['a', 'b', 'c', 'd']"
      ]
     },
     "execution_count": 5,
     "metadata": {},
     "output_type": "execute_result"
    }
   ],
   "source": [
    "spam = ['a','b','c','d']\n",
    "spam"
   ]
  },
  {
   "cell_type": "code",
   "execution_count": 6,
   "id": "e1e146ba-b526-4573-9473-147742c8afd9",
   "metadata": {},
   "outputs": [
    {
     "data": {
      "text/plain": [
       "'d'"
      ]
     },
     "execution_count": 6,
     "metadata": {},
     "output_type": "execute_result"
    }
   ],
   "source": [
    "spam[(int(int('3' *2)/11))]"
   ]
  },
  {
   "cell_type": "markdown",
   "id": "1364a56a-345f-48ae-99e2-4a48baf621c8",
   "metadata": {},
   "source": [
    " 4-What is the value of spam[-1]?"
   ]
  },
  {
   "cell_type": "markdown",
   "id": "cfcda127-a749-4224-b618-1700be256120",
   "metadata": {},
   "source": [
    "The ```list[-1]``` will returns the final element/ value of the list as follow - "
   ]
  },
  {
   "cell_type": "code",
   "execution_count": 7,
   "id": "e20b4fe8-575c-4986-880a-5b18be0e73ac",
   "metadata": {},
   "outputs": [
    {
     "data": {
      "text/plain": [
       "'d'"
      ]
     },
     "execution_count": 7,
     "metadata": {},
     "output_type": "execute_result"
    }
   ],
   "source": [
    "spam[-1]"
   ]
  },
  {
   "cell_type": "markdown",
   "id": "28583735-a30a-486c-a58f-985596042132",
   "metadata": {},
   "source": [
    " 5. What is the value of spam[:2]?"
   ]
  },
  {
   "cell_type": "markdown",
   "id": "95c68c82-d074-451a-af54-0dcbe587729c",
   "metadata": {},
   "source": [
    " The ```list[:2]``` will return the value of the list from the starting index which is ```0``` till the ```2``` index but it will not indclude the element of the specified index."
   ]
  },
  {
   "cell_type": "code",
   "execution_count": 8,
   "id": "d6940703-1038-4df1-be36-455f6ad5963d",
   "metadata": {},
   "outputs": [
    {
     "data": {
      "text/plain": [
       "['a', 'b']"
      ]
     },
     "execution_count": 8,
     "metadata": {},
     "output_type": "execute_result"
    }
   ],
   "source": [
    "spam[:2]"
   ]
  },
  {
   "cell_type": "markdown",
   "id": "e7b8673b-0738-4d36-b920-a2c1d61ac6eb",
   "metadata": {},
   "source": [
    "## Let's pretend bacon has the ```list [3.14, 'cat,' 11, 'cat,' True]``` for the next three questions."
   ]
  },
  {
   "cell_type": "markdown",
   "id": "3f155422-408c-422d-b71f-898fb8b453da",
   "metadata": {
    "tags": []
   },
   "source": [
    " 6. What is the value of bacon.index('cat')?"
   ]
  },
  {
   "cell_type": "markdown",
   "id": "2352e53f-cf13-44a6-ad48-a4a9c64c9c77",
   "metadata": {},
   "source": [
    "```list.index(element)``` gives the value of the first position/ index where the element got found in the list  "
   ]
  },
  {
   "cell_type": "code",
   "execution_count": 9,
   "id": "7da7eeaa-159e-4415-ace6-7e844631d015",
   "metadata": {},
   "outputs": [],
   "source": [
    "bacon =[3.14,'cat',11,'cat', True ]"
   ]
  },
  {
   "cell_type": "code",
   "execution_count": 10,
   "id": "c3124336-69e2-45e2-a27b-8e998dc66ff7",
   "metadata": {},
   "outputs": [
    {
     "data": {
      "text/plain": [
       "1"
      ]
     },
     "execution_count": 10,
     "metadata": {},
     "output_type": "execute_result"
    }
   ],
   "source": [
    "bacon.index(\"cat\")"
   ]
  },
  {
   "cell_type": "markdown",
   "id": "02964b4f-0498-428a-b7b5-312696175fea",
   "metadata": {},
   "source": [
    " 7. How does bacon.append(99) change the look of the list value in bacon?"
   ]
  },
  {
   "cell_type": "markdown",
   "id": "d6e7eb3d-9798-4f67-8d8f-3919ef99c55d",
   "metadata": {},
   "source": [
    "``` list.append(element)``` will add the element to the end of the list "
   ]
  },
  {
   "cell_type": "code",
   "execution_count": 11,
   "id": "a9e44c18-8284-4524-a22c-c2134228f4d7",
   "metadata": {},
   "outputs": [],
   "source": [
    "bacon.append(99)"
   ]
  },
  {
   "cell_type": "code",
   "execution_count": 12,
   "id": "e9adc7cd-0d0d-4921-b4c8-fe24e0c2b5db",
   "metadata": {},
   "outputs": [
    {
     "data": {
      "text/plain": [
       "[3.14, 'cat', 11, 'cat', True, 99]"
      ]
     },
     "execution_count": 12,
     "metadata": {},
     "output_type": "execute_result"
    }
   ],
   "source": [
    "bacon "
   ]
  },
  {
   "cell_type": "markdown",
   "id": "e732186c-515e-4c9f-b408-f487d8e889df",
   "metadata": {},
   "source": [
    " 8. How does bacon.remove('cat') change the look of the list in bacon?"
   ]
  },
  {
   "cell_type": "markdown",
   "id": "e62931ea-8808-4573-a5fa-f8c395772378",
   "metadata": {},
   "source": [
    "```list.remove(element)``` will remove the element from the list, if the list contains the a value which is repeated only the first occurence of the element in the list index will get removed. "
   ]
  },
  {
   "cell_type": "code",
   "execution_count": 13,
   "id": "7c19e41a-25f1-4b49-aa2a-35bea5baecc8",
   "metadata": {},
   "outputs": [],
   "source": [
    "bacon.remove('cat')"
   ]
  },
  {
   "cell_type": "code",
   "execution_count": 14,
   "id": "3bc672f3-e4d7-46f4-93be-47ed48d4b460",
   "metadata": {},
   "outputs": [
    {
     "data": {
      "text/plain": [
       "[3.14, 11, 'cat', True, 99]"
      ]
     },
     "execution_count": 14,
     "metadata": {},
     "output_type": "execute_result"
    }
   ],
   "source": [
    "bacon"
   ]
  },
  {
   "cell_type": "markdown",
   "id": "fa5d367f-9275-40ce-8abe-af30a4ea13be",
   "metadata": {
    "tags": []
   },
   "source": [
    "## 9. What are the list concatenation and list replication operators?"
   ]
  },
  {
   "cell_type": "markdown",
   "id": "54eca3ff-3172-4b1d-a0cf-26b3648a50c2",
   "metadata": {},
   "source": [
    "The ```+``` is a list concatenation and ```*``` is the list replication operators "
   ]
  },
  {
   "cell_type": "code",
   "execution_count": 16,
   "id": "2e38bfd6-c27a-4828-8099-a5b2f95b281a",
   "metadata": {},
   "outputs": [],
   "source": [
    "lst1= ['a','b','c','d']\n",
    "lst2= [1,22,3,4]"
   ]
  },
  {
   "cell_type": "code",
   "execution_count": 17,
   "id": "e80ce5fa-2569-4f49-b7dc-003f117adfa2",
   "metadata": {},
   "outputs": [
    {
     "name": "stdout",
     "output_type": "stream",
     "text": [
      "['a', 'b', 'c', 'd'] [1, 22, 3, 4]\n"
     ]
    }
   ],
   "source": [
    "print(lst1,lst2)"
   ]
  },
  {
   "cell_type": "code",
   "execution_count": 18,
   "id": "191961fe-b7e6-45eb-bca8-ae767539e122",
   "metadata": {},
   "outputs": [],
   "source": [
    "a= lst1+lst2"
   ]
  },
  {
   "cell_type": "code",
   "execution_count": 19,
   "id": "2576d006-699d-4d88-b67b-2f613f57d3c0",
   "metadata": {},
   "outputs": [
    {
     "name": "stdout",
     "output_type": "stream",
     "text": [
      "['a', 'b', 'c', 'd', 1, 22, 3, 4]\n"
     ]
    }
   ],
   "source": [
    "print(a)"
   ]
  },
  {
   "cell_type": "code",
   "execution_count": 21,
   "id": "91538bd2-5308-4155-9186-56010e4ccbac",
   "metadata": {},
   "outputs": [],
   "source": [
    "z= lst1*2"
   ]
  },
  {
   "cell_type": "code",
   "execution_count": 22,
   "id": "78cd5519-a0e9-4101-a916-a9e57bb2dd8d",
   "metadata": {},
   "outputs": [
    {
     "name": "stdout",
     "output_type": "stream",
     "text": [
      "['a', 'b', 'c', 'd', 'a', 'b', 'c', 'd']\n"
     ]
    }
   ],
   "source": [
    "print(z)"
   ]
  },
  {
   "cell_type": "markdown",
   "id": "3680fc80-98a4-43a5-85a0-1535aae58dc5",
   "metadata": {},
   "source": [
    "##  10. What is difference between the list methods append() and insert()?\n"
   ]
  },
  {
   "cell_type": "markdown",
   "id": "f2372e7e-890b-49e4-8208-c32698e03cb0",
   "metadata": {},
   "source": [
    "- The ```.append()``` method adds or insert the new value to the end of the list as the last element of the list, while ```.insert()``` method is used to add a value or an element to a list with the position where we need to insert it.\n",
    " \n",
    " - In ```.insert()``` method we first provide the index where we need to insert the element and then provides the value."
   ]
  },
  {
   "cell_type": "code",
   "execution_count": 23,
   "id": "709c52df-b123-48a4-a984-5c11f244cb4e",
   "metadata": {},
   "outputs": [],
   "source": [
    "lst1.append(28)"
   ]
  },
  {
   "cell_type": "code",
   "execution_count": 24,
   "id": "65084255-470d-414f-af84-7c59224048b3",
   "metadata": {},
   "outputs": [
    {
     "data": {
      "text/plain": [
       "['a', 'b', 'c', 'd', 28]"
      ]
     },
     "execution_count": 24,
     "metadata": {},
     "output_type": "execute_result"
    }
   ],
   "source": [
    "lst1"
   ]
  },
  {
   "cell_type": "code",
   "execution_count": 25,
   "id": "58629fa0-0d47-4cfd-92bf-dd34ff5ed25e",
   "metadata": {},
   "outputs": [],
   "source": [
    "lst2.insert(2,88)"
   ]
  },
  {
   "cell_type": "code",
   "execution_count": 26,
   "id": "eda375c1-ce28-427e-b4c3-c1139ed4b66d",
   "metadata": {},
   "outputs": [
    {
     "data": {
      "text/plain": [
       "[1, 22, 88, 3, 4]"
      ]
     },
     "execution_count": 26,
     "metadata": {},
     "output_type": "execute_result"
    }
   ],
   "source": [
    "lst2"
   ]
  },
  {
   "cell_type": "markdown",
   "id": "3decd698-2d3d-4174-90d1-468bd5f47f77",
   "metadata": {},
   "source": [
    "## 11. What are the two methods for removing items from a list?\n"
   ]
  },
  {
   "cell_type": "markdown",
   "id": "c252063a-cde4-4cc7-86b8-760bca8d9d6b",
   "metadata": {},
   "source": [
    "The following the different methods/ functions that is used to remove the items from a list- \n",
    "\n",
    "- ```.pop()```\n",
    "- ```.remove()```\n",
    "- ```.del()```\n",
    "- ```.discard()```"
   ]
  },
  {
   "cell_type": "markdown",
   "id": "be422453-1590-4b02-9263-c21d4369ad0b",
   "metadata": {},
   "source": [
    "## 12. Describe how list values and string values are identical.\n"
   ]
  },
  {
   "cell_type": "markdown",
   "id": "d6ccf558-002d-4f53-be61-188511719488",
   "metadata": {},
   "source": [
    "- The ```lists``` and the ```Strings``` in python both have length.\n",
    "- Both have the indexes for the elements.\n",
    "- Both are sequences "
   ]
  },
  {
   "cell_type": "markdown",
   "id": "89efbfba-4cda-4836-97a5-3296ddfabd07",
   "metadata": {},
   "source": [
    "## 13. What's the difference between tuples and lists?\n",
    "\n"
   ]
  },
  {
   "cell_type": "markdown",
   "id": "3a55350c-28f1-40fe-9f76-f0bcc696a315",
   "metadata": {},
   "source": [
    "- The ```lists``` in python are mutable, i.e we can make changes on the list however ```tuples``` are immutable that is we can't change the elements once it has created.\n",
    "- ```lists``` are created using the square brackets ```[]``` while ```tuple``` are created in curved brackets ```()```."
   ]
  },
  {
   "cell_type": "markdown",
   "id": "f46bc2ca-9165-4cec-9286-4b8d3f3bfd00",
   "metadata": {},
   "source": [
    "## 14. How do you type a tuple value that only contains the integer 42?\n"
   ]
  },
  {
   "cell_type": "markdown",
   "id": "48d0ac1a-81c5-4a5b-91c3-02597954183c",
   "metadata": {},
   "source": [
    "**To create a tuple that contains only one value the ```,``` is most important after providing the value of the element of the tuple**"
   ]
  },
  {
   "cell_type": "code",
   "execution_count": 29,
   "id": "86a24815-1b70-4432-bf76-da36f2e73a30",
   "metadata": {},
   "outputs": [],
   "source": [
    "a=(42,)"
   ]
  },
  {
   "cell_type": "code",
   "execution_count": 30,
   "id": "06298b57-0799-4c41-8613-3cf431366091",
   "metadata": {},
   "outputs": [
    {
     "data": {
      "text/plain": [
       "tuple"
      ]
     },
     "execution_count": 30,
     "metadata": {},
     "output_type": "execute_result"
    }
   ],
   "source": [
    "type(a)"
   ]
  },
  {
   "cell_type": "markdown",
   "id": "f815295c-8c3f-4add-911e-2cdc36e2abbc",
   "metadata": {},
   "source": [
    "## 15. How do you get a list value's tuple form? How do you get a tuple value's list form?\n"
   ]
  },
  {
   "cell_type": "markdown",
   "id": "82bef4ee-c03d-48c8-a62e-57b6ef9d8a7d",
   "metadata": {},
   "source": [
    "**Getting Tuple value from list**"
   ]
  },
  {
   "cell_type": "code",
   "execution_count": 33,
   "id": "3252b6ab-8c20-4086-ac14-3bc8da6eb057",
   "metadata": {},
   "outputs": [
    {
     "data": {
      "text/plain": [
       "[1, 1, 12, 32, 22, 56]"
      ]
     },
     "execution_count": 33,
     "metadata": {},
     "output_type": "execute_result"
    }
   ],
   "source": [
    "li=[1,1,12,32,22,56]\n",
    "li"
   ]
  },
  {
   "cell_type": "code",
   "execution_count": 32,
   "id": "ec9be4e0-28a1-4d0e-953f-25794f5f50c8",
   "metadata": {},
   "outputs": [
    {
     "name": "stdout",
     "output_type": "stream",
     "text": [
      "<class 'list'>\n"
     ]
    }
   ],
   "source": [
    "print(type(li))"
   ]
  },
  {
   "cell_type": "code",
   "execution_count": 35,
   "id": "33788561-421a-4d30-bc63-c2436b0b5aad",
   "metadata": {},
   "outputs": [],
   "source": [
    "zz=tuple(li)"
   ]
  },
  {
   "cell_type": "code",
   "execution_count": 36,
   "id": "b48c24be-b834-42a0-aec4-1c998e0ae5c9",
   "metadata": {},
   "outputs": [
    {
     "data": {
      "text/plain": [
       "(1, 1, 12, 32, 22, 56)"
      ]
     },
     "execution_count": 36,
     "metadata": {},
     "output_type": "execute_result"
    }
   ],
   "source": [
    "zz"
   ]
  },
  {
   "cell_type": "code",
   "execution_count": 37,
   "id": "13149fee-94a9-4d7e-856d-9488efcb1ac7",
   "metadata": {},
   "outputs": [
    {
     "data": {
      "text/plain": [
       "tuple"
      ]
     },
     "execution_count": 37,
     "metadata": {},
     "output_type": "execute_result"
    }
   ],
   "source": [
    "type(zz)"
   ]
  },
  {
   "cell_type": "markdown",
   "id": "3f141b77-c6dd-4a73-b595-9ea929b7ae0a",
   "metadata": {},
   "source": [
    "**Getting List value from Tuple**"
   ]
  },
  {
   "cell_type": "code",
   "execution_count": 38,
   "id": "be46c932-0585-4f83-9fd0-6ff78dfd3789",
   "metadata": {},
   "outputs": [],
   "source": [
    "bp=(4,8,9,22,66)"
   ]
  },
  {
   "cell_type": "code",
   "execution_count": 39,
   "id": "a9980b37-9a68-435c-b6ce-fc63882a3600",
   "metadata": {},
   "outputs": [
    {
     "name": "stdout",
     "output_type": "stream",
     "text": [
      "(4, 8, 9, 22, 66)\n"
     ]
    }
   ],
   "source": [
    "print(bp)"
   ]
  },
  {
   "cell_type": "code",
   "execution_count": 41,
   "id": "cd8cccc5-a27a-4098-af80-3c23d66e8722",
   "metadata": {},
   "outputs": [
    {
     "data": {
      "text/plain": [
       "tuple"
      ]
     },
     "execution_count": 41,
     "metadata": {},
     "output_type": "execute_result"
    }
   ],
   "source": [
    "type(bp)"
   ]
  },
  {
   "cell_type": "code",
   "execution_count": 42,
   "id": "1419e570-03e2-48e1-9ade-05575685e907",
   "metadata": {},
   "outputs": [],
   "source": [
    "xy=list(bp)"
   ]
  },
  {
   "cell_type": "code",
   "execution_count": 43,
   "id": "0e3c82d5-1291-485f-ae20-05f8f4898c7f",
   "metadata": {},
   "outputs": [
    {
     "data": {
      "text/plain": [
       "list"
      ]
     },
     "execution_count": 43,
     "metadata": {},
     "output_type": "execute_result"
    }
   ],
   "source": [
    "type(xy)"
   ]
  },
  {
   "cell_type": "code",
   "execution_count": 44,
   "id": "dc66a1aa-0f78-4614-9359-2cf73eb2a8c6",
   "metadata": {},
   "outputs": [
    {
     "name": "stdout",
     "output_type": "stream",
     "text": [
      "[4, 8, 9, 22, 66]\n"
     ]
    }
   ],
   "source": [
    "print(xy)"
   ]
  },
  {
   "cell_type": "markdown",
   "id": "7687532e-3471-4bed-b0a6-1bfdea4a2d29",
   "metadata": {},
   "source": [
    "## 16. Variables that \"contain\" list values are not necessarily lists themselves. Instead, what do they contain?\n"
   ]
  },
  {
   "cell_type": "markdown",
   "id": "9d6d98dc-64f8-48d4-8d56-1b30d7bc8b87",
   "metadata": {},
   "source": [
    "Variables contains references to list values rather than list values themselves."
   ]
  },
  {
   "cell_type": "markdown",
   "id": "2d6b220a-da15-4413-8c0e-0896dff5a789",
   "metadata": {},
   "source": [
    "## 17. How do you distinguish between copy.copy() and copy.deepcopy()?"
   ]
  },
  {
   "cell_type": "markdown",
   "id": "35444270-ccfd-42db-920b-290ea1f19632",
   "metadata": {},
   "source": [
    "In ```.copy.copy()``` a copy of the original object is stored and only the reference address is finally copied. In ```copy.deepcopy()```, the copy of the original object and the repetitive copies both are stored."
   ]
  },
  {
   "cell_type": "code",
   "execution_count": null,
   "id": "9bb5a6d1-bcb3-4567-893c-ccca89d52a13",
   "metadata": {},
   "outputs": [],
   "source": []
  }
 ],
 "metadata": {
  "kernelspec": {
   "display_name": "Python 3 (ipykernel)",
   "language": "python",
   "name": "python3"
  },
  "language_info": {
   "codemirror_mode": {
    "name": "ipython",
    "version": 3
   },
   "file_extension": ".py",
   "mimetype": "text/x-python",
   "name": "python",
   "nbconvert_exporter": "python",
   "pygments_lexer": "ipython3",
   "version": "3.10.6"
  }
 },
 "nbformat": 4,
 "nbformat_minor": 5
}
