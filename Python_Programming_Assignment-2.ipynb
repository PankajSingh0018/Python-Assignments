{
 "cells": [
  {
   "cell_type": "markdown",
   "id": "405b2608-20f5-4172-92a0-5d667e02a302",
   "metadata": {},
   "source": [
    "# Python Programming Assignment- 2 (Solved)"
   ]
  },
  {
   "cell_type": "markdown",
   "id": "75e3f799-c6ec-4f5c-8f3a-f5ce5fab4e2c",
   "metadata": {},
   "source": [
    "## Q1. Write a fucntion to convert kilometers to miles"
   ]
  },
  {
   "cell_type": "code",
   "execution_count": 3,
   "id": "d7c8ac4c-2e17-42a8-b0b9-9d96d5584abe",
   "metadata": {},
   "outputs": [
    {
     "name": "stdin",
     "output_type": "stream",
     "text": [
      "Enter the kilometers that needs conversion 25963\n"
     ]
    }
   ],
   "source": [
    "# Let's take the input for the kilometers that needs to be converted \n",
    "kms= float(input(\"Enter the kilometers that needs conversion\"))"
   ]
  },
  {
   "cell_type": "code",
   "execution_count": 4,
   "id": "3846cf0a-25e5-441f-8249-e7a8c02f2bc7",
   "metadata": {},
   "outputs": [
    {
     "name": "stdout",
     "output_type": "stream",
     "text": [
      " The kilometers received from user : 25963.0\n"
     ]
    }
   ],
   "source": [
    "#print the kilometers \n",
    "print(f\" The kilometers received from user : {kms}\")"
   ]
  },
  {
   "cell_type": "code",
   "execution_count": 11,
   "id": "b6269afb-a8ea-4381-87ba-3c6eb6cdc4bb",
   "metadata": {},
   "outputs": [],
   "source": [
    "def conv(kms):\n",
    "    km_to_miles = (kms * 0.621371)\n",
    "    print( f\" The total number of distance is miles would be {km_to_miles}\")"
   ]
  },
  {
   "cell_type": "code",
   "execution_count": 12,
   "id": "6c94cbee-97d1-4f33-9767-ed79adcb6666",
   "metadata": {},
   "outputs": [
    {
     "name": "stdout",
     "output_type": "stream",
     "text": [
      " The total number of distance is miles would be 16132.655273\n"
     ]
    }
   ],
   "source": [
    "# calling the conv function to make the calculations and printing the output \\\n",
    "miles =conv(kms)"
   ]
  },
  {
   "cell_type": "markdown",
   "id": "15cad474-9e65-44c4-842f-2b479471aa1d",
   "metadata": {},
   "source": [
    "## Q2- write a program to convert celsius to farenhite"
   ]
  },
  {
   "cell_type": "code",
   "execution_count": 17,
   "id": "c4be4008-3bbf-4228-bc96-41353928e174",
   "metadata": {},
   "outputs": [
    {
     "name": "stdin",
     "output_type": "stream",
     "text": [
      "Enter the temperature which is in degree Celsius: 100\n"
     ]
    },
    {
     "name": "stdout",
     "output_type": "stream",
     "text": [
      " The temperature in Degree Celsius is 100.0\n"
     ]
    }
   ],
   "source": [
    "# let's take the input of the temperature in celsius \n",
    "temp_celsius = float( input ( \"Enter the temperature which is in degree Celsius:\"))\n",
    "print (f\" The temperature in Degree Celsius is {temp_celsius}\")"
   ]
  },
  {
   "cell_type": "code",
   "execution_count": 20,
   "id": "d17cd5f1-2468-4ef8-8e11-e7380537ce35",
   "metadata": {},
   "outputs": [],
   "source": [
    "# let's create a function to convert the temp\n",
    "\n",
    "def temp_conv(temp_celsius):\n",
    "    Fahrenheit = (temp_celsius *1.8) +32\n",
    "    print( f\" The converted temperature in Degree Farenhite is {Fahrenheit}\")\n",
    "    "
   ]
  },
  {
   "cell_type": "code",
   "execution_count": 21,
   "id": "bee5a0e4-1e4d-4044-ac09-cc4b44a7df41",
   "metadata": {},
   "outputs": [
    {
     "name": "stdout",
     "output_type": "stream",
     "text": [
      " The converted temperature in Degree Farenhite is 212.0\n"
     ]
    }
   ],
   "source": [
    "temp_conv(temp_celsius)"
   ]
  },
  {
   "cell_type": "markdown",
   "id": "3949ce6f-f1bb-443c-b726-b339841bf232",
   "metadata": {},
   "source": [
    "## Q3- Write a Python program to display calendar?"
   ]
  },
  {
   "cell_type": "code",
   "execution_count": 31,
   "id": "950c681b-fac1-48ac-8907-bc62cc6096e9",
   "metadata": {},
   "outputs": [
    {
     "name": "stdin",
     "output_type": "stream",
     "text": [
      "Enter year =  3030\n",
      "Enter month in number =  8\n"
     ]
    },
    {
     "name": "stdout",
     "output_type": "stream",
     "text": [
      "    August 3030\n",
      "Mo Tu We Th Fr Sa Su\n",
      "                   1\n",
      " 2  3  4  5  6  7  8\n",
      " 9 10 11 12 13 14 15\n",
      "16 17 18 19 20 21 22\n",
      "23 24 25 26 27 28 29\n",
      "30 31\n",
      "\n"
     ]
    }
   ],
   "source": [
    "import calendar\n",
    "yy = int(input(\"Enter year = \"))\n",
    "mm = int(input(\"Enter month in number = \"))\n",
    "print(calendar.month(yy,mm))"
   ]
  },
  {
   "cell_type": "markdown",
   "id": "c1594779-5a39-4196-882a-0bf37c3d6e08",
   "metadata": {},
   "source": [
    "## Q4- Write a Python program to solve quadratic equation?"
   ]
  },
  {
   "cell_type": "code",
   "execution_count": 33,
   "id": "a70281e5-6a13-40fa-8d8b-b280a5b6df96",
   "metadata": {},
   "outputs": [
    {
     "name": "stdout",
     "output_type": "stream",
     "text": [
      "The roots are\n",
      "(-0.04-0.4882622246293481j)\n",
      "(-0.04+0.4882622246293481j)\n"
     ]
    }
   ],
   "source": [
    "# import complex math module\n",
    "import cmath\n",
    "  \n",
    "a = 25\n",
    "b = 2\n",
    "c = 6\n",
    "  \n",
    "# calculating  the discriminant\n",
    "dis = (b**2) - (4 * a*c)\n",
    "  \n",
    "# find two results\n",
    "ans1 = (-b-cmath.sqrt(dis))/(2 * a)\n",
    "ans2 = (-b + cmath.sqrt(dis))/(2 * a)\n",
    "  \n",
    "# printing the results\n",
    "print('The roots are')\n",
    "print(ans1)\n",
    "print(ans2)"
   ]
  },
  {
   "cell_type": "markdown",
   "id": "792dff1c-99bb-469a-933e-281331ee96dd",
   "metadata": {},
   "source": [
    "## Q 5.\tWrite a Python program to swap two variables without temp variable?\n"
   ]
  },
  {
   "cell_type": "code",
   "execution_count": 39,
   "id": "7863e413-387d-48e4-9899-755dc6bbb219",
   "metadata": {},
   "outputs": [],
   "source": [
    "z= 26\n",
    "w=62"
   ]
  },
  {
   "cell_type": "code",
   "execution_count": 41,
   "id": "c0604df7-f4f8-408f-b1e7-0cded94343ac",
   "metadata": {},
   "outputs": [
    {
     "name": "stdout",
     "output_type": "stream",
     "text": [
      "The actual values of z is 26 and w is 62\n"
     ]
    }
   ],
   "source": [
    "print (f\"The actual values of z is {z} and w is {w}\")"
   ]
  },
  {
   "cell_type": "code",
   "execution_count": 42,
   "id": "7028785e-37e8-4589-92d8-572225199cf5",
   "metadata": {},
   "outputs": [],
   "source": [
    "# Let's swap the numbers \n",
    "z,w= w,z"
   ]
  },
  {
   "cell_type": "code",
   "execution_count": 43,
   "id": "0793f0dc-194c-4ec3-9eff-bd9f458fcd6b",
   "metadata": {},
   "outputs": [
    {
     "name": "stdout",
     "output_type": "stream",
     "text": [
      "The swapped values of z is 62 and w is 26\n"
     ]
    }
   ],
   "source": [
    "print (f\"The swapped values of z is {z} and w is {w}\")"
   ]
  }
 ],
 "metadata": {
  "kernelspec": {
   "display_name": "Python 3 (ipykernel)",
   "language": "python",
   "name": "python3"
  },
  "language_info": {
   "codemirror_mode": {
    "name": "ipython",
    "version": 3
   },
   "file_extension": ".py",
   "mimetype": "text/x-python",
   "name": "python",
   "nbconvert_exporter": "python",
   "pygments_lexer": "ipython3",
   "version": "3.10.6"
  }
 },
 "nbformat": 4,
 "nbformat_minor": 5
}
